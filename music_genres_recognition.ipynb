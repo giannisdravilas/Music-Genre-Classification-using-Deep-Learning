{
  "cells": [
    {
      "cell_type": "markdown",
      "metadata": {
        "id": "Nd6Sxcl3kakU"
      },
      "source": [
        "We will use Neural Networks to predict music genres from short music clips, each lasting just 1 second. Our goal is to label these clips as classical, pop, rock, or blues. We 're feeding Mel-frequency cepstral coefficients (MFCCs) into Feedforward Neural Networks and mel spectrograms into Convolutional Neural Networks to make these predictions."
      ]
    },
    {
      "cell_type": "markdown",
      "metadata": {
        "id": "s1f2SqOzJv0L"
      },
      "source": [
        "Importing the necessary libraries."
      ]
    },
    {
      "cell_type": "code",
      "execution_count": null,
      "metadata": {
        "id": "29dHJHCAJyCo"
      },
      "outputs": [],
      "source": [
        "import os\n",
        "import numpy as np\n",
        "import torch\n",
        "from torch.utils.data import Dataset\n",
        "from torch.utils.data import DataLoader\n",
        "import torch.nn as nn\n",
        "import torch.nn.functional as F\n",
        "from sklearn.metrics import f1_score\n",
        "from sklearn.metrics import accuracy_score\n",
        "from sklearn.metrics import confusion_matrix\n",
        "import time\n",
        "import matplotlib.pyplot as plt\n",
        "import random\n",
        "import librosa"
      ]
    },
    {
      "cell_type": "markdown",
      "metadata": {
        "id": "PwRLBXETsULK"
      },
      "source": [
        "# Exercise 1: Feedforward Neural Network\n",
        "\n",
        "### Step 1: Loading the data"
      ]
    },
    {
      "cell_type": "code",
      "execution_count": null,
      "metadata": {
        "colab": {
          "base_uri": "https://localhost:8080/"
        },
        "id": "ASeU3iFIMGVW",
        "outputId": "2a12708e-b928-49d9-ca63-6e1ed54edcbe"
      },
      "outputs": [
        {
          "name": "stdout",
          "output_type": "stream",
          "text": [
            "Archive:  data.zip\n",
            "   creating: music_genre_data_di/\n",
            "   creating: music_genre_data_di/test/\n",
            "   creating: music_genre_data_di/test/melgrams/\n",
            "  inflating: music_genre_data_di/test/melgrams/X.npy  \n",
            "  inflating: music_genre_data_di/test/melgrams/labels.npy  \n",
            "   creating: music_genre_data_di/test/mfccs/\n",
            "  inflating: music_genre_data_di/test/mfccs/X.npy  \n",
            "  inflating: music_genre_data_di/test/mfccs/labels.npy  \n",
            "   creating: music_genre_data_di/train/\n",
            "   creating: music_genre_data_di/train/melgrams/\n",
            "  inflating: music_genre_data_di/train/melgrams/X.npy  \n",
            "  inflating: music_genre_data_di/train/melgrams/labels.npy  \n",
            "   creating: music_genre_data_di/train/mfccs/\n",
            "  inflating: music_genre_data_di/train/mfccs/X.npy  \n",
            "  inflating: music_genre_data_di/train/mfccs/labels.npy  \n",
            "   creating: music_genre_data_di/val/\n",
            "   creating: music_genre_data_di/val/melgrams/\n",
            "  inflating: music_genre_data_di/val/melgrams/X.npy  \n",
            "  inflating: music_genre_data_di/val/melgrams/labels.npy  \n",
            "   creating: music_genre_data_di/val/mfccs/\n",
            "  inflating: music_genre_data_di/val/mfccs/X.npy  \n",
            "  inflating: music_genre_data_di/val/mfccs/labels.npy  \n"
          ]
        }
      ],
      "source": [
        "!unzip data.zip"
      ]
    },
    {
      "cell_type": "code",
      "execution_count": null,
      "metadata": {
        "id": "I-8xnh08MLpP"
      },
      "outputs": [],
      "source": [
        "mfcc_path = \"/content/music_genre_data_di/\"\n",
        "\n",
        "X_train = np.load(os.path.join(mfcc_path, \"train/mfccs/X.npy\"))\n",
        "labels_train = np.load(os.path.join(mfcc_path, \"train/mfccs/labels.npy\"))\n",
        "\n",
        "X_val = np.load(os.path.join(mfcc_path, \"val/mfccs/X.npy\"))\n",
        "labels_val = np.load(os.path.join(mfcc_path, \"val/mfccs/labels.npy\"))\n",
        "\n",
        "X_test = np.load(os.path.join(mfcc_path, \"test/mfccs/X.npy\"))\n",
        "labels_test = np.load(os.path.join(mfcc_path, \"test/mfccs/labels.npy\"))"
      ]
    },
    {
      "cell_type": "markdown",
      "metadata": {
        "id": "gxvaYbCVEnlS"
      },
      "source": [
        "Convert labels from strings to ints."
      ]
    },
    {
      "cell_type": "code",
      "execution_count": null,
      "metadata": {
        "id": "Mz2vFHsDOAfJ"
      },
      "outputs": [],
      "source": [
        "unique_labels_train, Y_train = np.unique(labels_train, return_inverse=True)\n",
        "\n",
        "unique_labels_val, Y_val = np.unique(labels_val, return_inverse=True)\n",
        "\n",
        "unique_labels_test, Y_test = np.unique(labels_test, return_inverse=True)"
      ]
    },
    {
      "cell_type": "markdown",
      "metadata": {
        "id": "YAGstnlVEnlS"
      },
      "source": [
        "Definition of a custom PyTorch dataset."
      ]
    },
    {
      "cell_type": "code",
      "execution_count": null,
      "metadata": {
        "id": "dPgIf-KOP5X1"
      },
      "outputs": [],
      "source": [
        "class mfccDataset(Dataset):\n",
        "\n",
        "  def __init__(self, x, y):\n",
        "    self.x = torch.from_numpy(x)\n",
        "    self.y = torch.from_numpy(y)\n",
        "    self.len = len(self.y)\n",
        "\n",
        "  def __len__(self):\n",
        "    return self.len\n",
        "\n",
        "  def __getitem__(self, idx):\n",
        "    return self.x[idx], self.y[idx]"
      ]
    },
    {
      "cell_type": "markdown",
      "metadata": {
        "id": "A9ry9hdDEnlS"
      },
      "source": [
        "Creation of custom datasets using our data and loading of those datasets to dataloaders."
      ]
    },
    {
      "cell_type": "code",
      "execution_count": null,
      "metadata": {
        "id": "wRbRRYROQexs"
      },
      "outputs": [],
      "source": [
        "train_dataset = mfccDataset(X_train, Y_train)\n",
        "val_dataset = mfccDataset(X_val, Y_val)\n",
        "test_dataset = mfccDataset(X_test, Y_test)\n",
        "\n",
        "train_dataloader = DataLoader(dataset = train_dataset, batch_size=16, shuffle = True)\n",
        "val_dataloader = DataLoader(dataset = val_dataset, batch_size=16, shuffle = True)\n",
        "test_dataloader = DataLoader(dataset = test_dataset, batch_size=16)"
      ]
    },
    {
      "cell_type": "markdown",
      "metadata": {
        "id": "KRBzvtYDEnlT"
      },
      "source": [
        "### Step 2: Defintion of a Neural Network\n",
        "\n",
        "We define a Feedforward Neural Network, using 4 linear layers."
      ]
    },
    {
      "cell_type": "code",
      "execution_count": null,
      "metadata": {
        "id": "ZJ7HZCvcR6K1"
      },
      "outputs": [],
      "source": [
        "class fnn(nn.Module):\n",
        "\n",
        "  def __init__(self, d_emb, num_classes):\n",
        "    super(fnn, self).__init__()\n",
        "\n",
        "    self.linear1 = nn.Linear(d_emb, 128)\n",
        "    self.linear2 = nn.Linear(128, 32)\n",
        "    self.linear3 = nn.Linear(32, num_classes)\n",
        "\n",
        "  def forward(self, x):\n",
        "    out = self.linear1(x)\n",
        "    out = self.linear2(out)\n",
        "    out = self.linear3(out)\n",
        "\n",
        "    return out"
      ]
    },
    {
      "cell_type": "markdown",
      "metadata": {
        "id": "alFmc91OEnlT"
      },
      "source": [
        "### Step 3: Definition of a training process\n",
        "\n",
        "We define a training function which, given the parameters for the training of a model, performs the training process."
      ]
    },
    {
      "cell_type": "code",
      "execution_count": null,
      "metadata": {
        "id": "i5_acb1eTkHH"
      },
      "outputs": [],
      "source": [
        "def training(num_epochs, optimizer, dataloader, criterion, model, device, val_dataloader=None, best_name=None, display_loss=False, scheduler=None, early_stopping=None):\n",
        "\n",
        "  best_f1_score = -1\n",
        "  consecutive_epochs_no_improvement = 0\n",
        "\n",
        "  for epoch in range(num_epochs):\n",
        "\n",
        "    losses = []\n",
        "\n",
        "    for (x, y) in dataloader:\n",
        "\n",
        "      x = x.to(dtype=torch.float32)\n",
        "      x = x.to(device)\n",
        "      y = y.to(device)\n",
        "\n",
        "      # Forward pass\n",
        "      outputs = model(x)\n",
        "      loss = criterion(outputs, y)\n",
        "\n",
        "      losses.append(loss.item())\n",
        "\n",
        "      # Backward and optimize\n",
        "      optimizer.zero_grad()\n",
        "      loss.backward()\n",
        "      optimizer.step()\n",
        "\n",
        "    if val_dataloader:\n",
        "\n",
        "      if early_stopping and epoch > 0:\n",
        "        previous_f1_score = current_f1_score\n",
        "\n",
        "      _, _, _, current_f1_score, _, _ = evaluation(val_dataloader, criterion, model, device)\n",
        "\n",
        "      if current_f1_score > best_f1_score:\n",
        "        best_f1_score = current_f1_score\n",
        "        torch.save(model.state_dict(), best_name)\n",
        "\n",
        "      if early_stopping:\n",
        "        if epoch > 0:\n",
        "          if current_f1_score <= previous_f1_score:\n",
        "            consecutive_epochs_no_improvement += 1\n",
        "          else:\n",
        "            consecutive_epochs_no_improvement = 0\n",
        "\n",
        "          if consecutive_epochs_no_improvement >= early_stopping:\n",
        "            return model\n",
        "\n",
        "    if display_loss:\n",
        "      print(\"Epoch\", epoch)\n",
        "      print(\"Training Loss:\", np.mean(losses))\n",
        "\n",
        "    if scheduler:\n",
        "      scheduler.step()\n",
        "\n",
        "  return model"
      ]
    },
    {
      "cell_type": "markdown",
      "metadata": {
        "id": "XNg0nfUhEnlT"
      },
      "source": [
        "### Step 4: Definition of an evaluation process\n",
        "\n",
        "We define a function which, given a dataloader, a criterion and a model, evaluates the data of that dataloader, using the given loss function and the predictions created by the model."
      ]
    },
    {
      "cell_type": "code",
      "execution_count": null,
      "metadata": {
        "id": "3StU6fK1VnxJ"
      },
      "outputs": [],
      "source": [
        "def evaluation(dataloader, criterion, model, device, print_output=False):\n",
        "\n",
        "    losses = []\n",
        "    total_predictions = []\n",
        "    total_actuals = []\n",
        "\n",
        "    model.eval()\n",
        "\n",
        "    with torch.no_grad():\n",
        "\n",
        "      for (x, y) in dataloader:\n",
        "\n",
        "        x = x.to(dtype=torch.float32)\n",
        "        x = x.to(device)\n",
        "        y = y.to(device)\n",
        "\n",
        "        # Forward pass\n",
        "        outputs = model(x)\n",
        "        predictions = outputs.argmax(1)\n",
        "\n",
        "        loss = criterion(outputs, y)\n",
        "        losses.append(loss.item())\n",
        "\n",
        "        total_predictions.extend(predictions.cpu().numpy())\n",
        "        total_actuals.extend(y.cpu().numpy())\n",
        "\n",
        "    mean_loss = np.mean(losses)\n",
        "    f1 = f1_score(total_actuals, total_predictions, average='macro')\n",
        "    accuracy = accuracy_score(total_actuals, total_predictions)\n",
        "    cm = confusion_matrix(total_actuals, total_predictions, labels=[0,1,2,3])\n",
        "\n",
        "    if print_output:\n",
        "      print(\"\\n----Evaluation:----\\n\")\n",
        "      print(\"Mean Loss:\", mean_loss)\n",
        "      print(\"F1-Score (macro averaged):\", f1)\n",
        "      print(\"Accuracy:\", accuracy)\n",
        "      print(\"Confusion Matrix:\\n\", cm)\n",
        "\n",
        "    model.train()\n",
        "\n",
        "    return total_actuals, total_predictions, mean_loss, f1, accuracy, cm"
      ]
    },
    {
      "cell_type": "markdown",
      "metadata": {
        "id": "9P3qT0tYEnlU"
      },
      "source": [
        "### Step 5: Network training"
      ]
    },
    {
      "cell_type": "code",
      "execution_count": null,
      "metadata": {
        "id": "CPFd_Lq5ZX5G"
      },
      "outputs": [],
      "source": [
        "learning_rate = 0.002\n",
        "criterion = nn.CrossEntropyLoss()\n",
        "num_epochs = 30\n",
        "d_emb = 26\n",
        "num_classes = len(labels_train)"
      ]
    },
    {
      "cell_type": "code",
      "execution_count": null,
      "metadata": {
        "colab": {
          "base_uri": "https://localhost:8080/"
        },
        "id": "hDFFqS6Chgjr",
        "outputId": "2fe8344c-6f94-48fc-b291-d89713120da7"
      },
      "outputs": [
        {
          "name": "stdout",
          "output_type": "stream",
          "text": [
            "Epoch 0\n",
            "Training Loss: 2.1733278250694275\n",
            "Epoch 1\n",
            "Training Loss: 1.4001754760742187\n",
            "Epoch 2\n",
            "Training Loss: 1.3658276849985123\n",
            "Epoch 3\n",
            "Training Loss: 1.3452991503477096\n",
            "Epoch 4\n",
            "Training Loss: 1.3182832223176957\n",
            "Epoch 5\n",
            "Training Loss: 1.2901593619585037\n",
            "Epoch 6\n",
            "Training Loss: 1.2529200834035874\n",
            "Epoch 7\n",
            "Training Loss: 1.2226202994585038\n",
            "Epoch 8\n",
            "Training Loss: 1.2000910049676896\n",
            "Epoch 9\n",
            "Training Loss: 1.175966346859932\n",
            "Epoch 10\n",
            "Training Loss: 1.1380728763341903\n",
            "Epoch 11\n",
            "Training Loss: 1.1270524087548255\n",
            "Epoch 12\n",
            "Training Loss: 1.1038377928733825\n",
            "Epoch 13\n",
            "Training Loss: 1.082078717648983\n",
            "Epoch 14\n",
            "Training Loss: 1.0582186645269394\n",
            "Epoch 15\n",
            "Training Loss: 1.0482262670993805\n",
            "Epoch 16\n",
            "Training Loss: 1.038194636106491\n",
            "Epoch 17\n",
            "Training Loss: 1.0253545913100242\n",
            "Epoch 18\n",
            "Training Loss: 1.006977789402008\n",
            "Epoch 19\n",
            "Training Loss: 0.9941934126615525\n",
            "Epoch 20\n",
            "Training Loss: 1.0051484787464142\n",
            "Epoch 21\n",
            "Training Loss: 0.9920315903425216\n",
            "Epoch 22\n",
            "Training Loss: 0.9748536214232445\n",
            "Epoch 23\n",
            "Training Loss: 0.9724488285183907\n",
            "Epoch 24\n",
            "Training Loss: 0.962725560516119\n",
            "Epoch 25\n",
            "Training Loss: 0.9556332415342331\n",
            "Epoch 26\n",
            "Training Loss: 0.9542548725008965\n",
            "Epoch 27\n",
            "Training Loss: 0.9595809209346772\n",
            "Epoch 28\n",
            "Training Loss: 0.9496190243959427\n",
            "Epoch 29\n",
            "Training Loss: 0.9437933593988419\n",
            "\n",
            "----Evaluation:----\n",
            "\n",
            "Mean Loss: 0.9464184644437114\n",
            "F1-Score (macro averaged): 0.6093475992521311\n",
            "Accuracy: 0.6351744186046512\n",
            "Confusion Matrix:\n",
            " [[ 75  40 107 102]\n",
            " [ 22 250  13  12]\n",
            " [ 35  18 289  14]\n",
            " [ 37  45  57 260]]\n"
          ]
        }
      ],
      "source": [
        "device = 'cpu'\n",
        "\n",
        "model = fnn(d_emb, num_classes).to(device)\n",
        "\n",
        "optimizer = torch.optim.SGD(model.parameters(), lr=learning_rate)\n",
        "\n",
        "start = time.time()\n",
        "model = training(num_epochs, optimizer, train_dataloader, criterion, model, device, display_loss=True)\n",
        "end = time.time()\n",
        "\n",
        "cpu_time = end - start\n",
        "\n",
        "_, _, _, _, _, _ = evaluation(test_dataloader, criterion, model, device, print_output = True)"
      ]
    },
    {
      "cell_type": "markdown",
      "metadata": {
        "id": "5tPgB6CzEnlU"
      },
      "source": [
        "### Step 6: Network training with GPU"
      ]
    },
    {
      "cell_type": "code",
      "execution_count": null,
      "metadata": {
        "id": "s6BeRGnJhhDr",
        "outputId": "04a9e408-5a0e-49e3-c983-bf580bcb1785"
      },
      "outputs": [
        {
          "name": "stdout",
          "output_type": "stream",
          "text": [
            "Epoch 0\n",
            "Training Loss: 2.206346526145935\n",
            "Epoch 1\n",
            "Training Loss: 1.41883240878582\n",
            "Epoch 2\n",
            "Training Loss: 1.392235975265503\n",
            "Epoch 3\n",
            "Training Loss: 1.3619970625638962\n",
            "Epoch 4\n",
            "Training Loss: 1.342189365029335\n",
            "Epoch 5\n",
            "Training Loss: 1.3223655605316162\n",
            "Epoch 6\n",
            "Training Loss: 1.2933681309223175\n",
            "Epoch 7\n",
            "Training Loss: 1.2636247777938843\n",
            "Epoch 8\n",
            "Training Loss: 1.2415854394435883\n",
            "Epoch 9\n",
            "Training Loss: 1.2110860925912856\n",
            "Epoch 10\n",
            "Training Loss: 1.1924183338880538\n",
            "Epoch 11\n",
            "Training Loss: 1.1624325281381607\n",
            "Epoch 12\n",
            "Training Loss: 1.1382830995321274\n",
            "Epoch 13\n",
            "Training Loss: 1.1140421542525292\n",
            "Epoch 14\n",
            "Training Loss: 1.082563273012638\n",
            "Epoch 15\n",
            "Training Loss: 1.064164595603943\n",
            "Epoch 16\n",
            "Training Loss: 1.0588230350613594\n",
            "Epoch 17\n",
            "Training Loss: 1.03734033703804\n",
            "Epoch 18\n",
            "Training Loss: 1.0181738817691803\n",
            "Epoch 19\n",
            "Training Loss: 1.0072115164995195\n",
            "Epoch 20\n",
            "Training Loss: 1.0050147460401058\n",
            "Epoch 21\n",
            "Training Loss: 0.9844251242280007\n",
            "Epoch 22\n",
            "Training Loss: 1.0015881282091141\n",
            "Epoch 23\n",
            "Training Loss: 0.9837190297245979\n",
            "Epoch 24\n",
            "Training Loss: 0.989547530412674\n",
            "Epoch 25\n",
            "Training Loss: 0.9660509783029556\n",
            "Epoch 26\n",
            "Training Loss: 0.9646963879466057\n",
            "Epoch 27\n",
            "Training Loss: 0.9678832638263702\n",
            "Epoch 28\n",
            "Training Loss: 0.9548376938700676\n",
            "Epoch 29\n",
            "Training Loss: 0.9545975360274315\n",
            "\n",
            "----Evaluation:----\n",
            "\n",
            "Mean Loss: 0.9697080433022144\n",
            "F1-Score (macro averaged): 0.5705775307759912\n",
            "Accuracy: 0.6097383720930233\n",
            "Confusion Matrix:\n",
            " [[ 39  19 157 109]\n",
            " [ 27 221  27  22]\n",
            " [ 18  11 314  13]\n",
            " [ 34  21  79 265]]\n",
            "CPU Time: 3.9410252571105957\n",
            "GPU Time: 11.574848890304565\n"
          ]
        }
      ],
      "source": [
        "device = \"mps\" if getattr(torch,'has_mps',False) \\\n",
        "    else \"cuda\" if torch.cuda.is_available() else \"cpu\"\n",
        "\n",
        "model = fnn(d_emb, num_classes).to(device)\n",
        "\n",
        "optimizer = torch.optim.SGD(model.parameters(), lr=learning_rate)\n",
        "\n",
        "start = time.time()\n",
        "model = training(num_epochs, optimizer, train_dataloader, criterion, model, device, display_loss=True)\n",
        "end = time.time()\n",
        "\n",
        "gpu_time = end - start\n",
        "\n",
        "evaluation(test_dataloader, criterion, model, device, print_output = True)\n",
        "\n",
        "print(\"CPU Time:\", cpu_time)\n",
        "print(\"GPU Time:\", gpu_time)"
      ]
    },
    {
      "cell_type": "markdown",
      "metadata": {
        "id": "6CJ-b6NOEnlV"
      },
      "source": [
        "### Step 7: Model selection\n",
        "\n",
        "We will now train the same neural network, but will evaluate the model produced after each epoch on the validation set and save the best one to evaluate it on the testing dataset."
      ]
    },
    {
      "cell_type": "code",
      "execution_count": null,
      "metadata": {
        "id": "9J3EbCoHEnlV",
        "outputId": "84073de9-e428-4cd7-bce4-35fe81df8ca3"
      },
      "outputs": [
        {
          "name": "stdout",
          "output_type": "stream",
          "text": [
            "Epoch 0\n",
            "Training Loss: 2.068085023164749\n",
            "Epoch 1\n",
            "Training Loss: 1.4052488136291503\n",
            "Epoch 2\n",
            "Training Loss: 1.3803345251083374\n",
            "Epoch 3\n",
            "Training Loss: 1.3684109032154084\n",
            "Epoch 4\n",
            "Training Loss: 1.3521263593435286\n",
            "Epoch 5\n",
            "Training Loss: 1.3246397054195405\n",
            "Epoch 6\n",
            "Training Loss: 1.298447561264038\n",
            "Epoch 7\n",
            "Training Loss: 1.2728519701957703\n",
            "Epoch 8\n",
            "Training Loss: 1.2462084728479386\n",
            "Epoch 9\n",
            "Training Loss: 1.2271467158198357\n",
            "Epoch 10\n",
            "Training Loss: 1.1937050423026085\n",
            "Epoch 11\n",
            "Training Loss: 1.1673814204335213\n",
            "Epoch 12\n",
            "Training Loss: 1.140403377711773\n",
            "Epoch 13\n",
            "Training Loss: 1.11305190294981\n",
            "Epoch 14\n",
            "Training Loss: 1.0948264586925507\n",
            "Epoch 15\n",
            "Training Loss: 1.0649517560005188\n",
            "Epoch 16\n",
            "Training Loss: 1.052067904472351\n",
            "Epoch 17\n",
            "Training Loss: 1.0346333980560303\n",
            "Epoch 18\n",
            "Training Loss: 1.0318843579292298\n",
            "Epoch 19\n",
            "Training Loss: 1.0092538374662399\n",
            "Epoch 20\n",
            "Training Loss: 0.9961054047942162\n",
            "Epoch 21\n",
            "Training Loss: 0.9922027069330216\n",
            "Epoch 22\n",
            "Training Loss: 0.9825932440161705\n",
            "Epoch 23\n",
            "Training Loss: 0.9777444666624069\n",
            "Epoch 24\n",
            "Training Loss: 0.96956646412611\n",
            "Epoch 25\n",
            "Training Loss: 0.9680980893969536\n",
            "Epoch 26\n",
            "Training Loss: 0.9555876782536507\n",
            "Epoch 27\n",
            "Training Loss: 0.9569437742233277\n",
            "Epoch 28\n",
            "Training Loss: 0.9512467461824418\n",
            "Epoch 29\n",
            "Training Loss: 0.9395232430100441\n",
            "\n",
            "----Evaluation:----\n",
            "\n",
            "Mean Loss: 0.98465788468372\n",
            "F1-Score (macro averaged): 0.6127717634109273\n",
            "Accuracy: 0.5988372093023255\n",
            "Confusion Matrix:\n",
            " [[172  18  53  81]\n",
            " [ 65 214   8  10]\n",
            " [133  12 194  17]\n",
            " [107  16  32 244]]\n"
          ]
        }
      ],
      "source": [
        "device = 'cpu'\n",
        "\n",
        "model = fnn(d_emb, num_classes).to(device)\n",
        "\n",
        "optimizer = torch.optim.SGD(model.parameters(), lr=learning_rate)\n",
        "\n",
        "model = training(num_epochs, optimizer, train_dataloader, criterion, model, device, display_loss=True, val_dataloader=val_dataloader, best_name='best_fnn_model')\n",
        "\n",
        "model = fnn(d_emb, num_classes)\n",
        "model.load_state_dict(torch.load('best_fnn_model'))\n",
        "model = model.to(device)\n",
        "\n",
        "_, _, _, _, _, _ = evaluation(test_dataloader, criterion, model, device, print_output = True)"
      ]
    },
    {
      "cell_type": "markdown",
      "metadata": {
        "id": "XJqRT_JX4WDp"
      },
      "source": [
        "# Exercise 2: Convolutional Neural Network\n",
        "\n",
        "### Step 1: Loading the data (spectrograms)\n",
        "\n",
        "Loading the data."
      ]
    },
    {
      "cell_type": "code",
      "execution_count": null,
      "metadata": {
        "id": "84jxvfHG5AOb"
      },
      "outputs": [],
      "source": [
        "melgram_path = \"/content/music_genre_data_di/\"\n",
        "\n",
        "X_train = np.load(os.path.join(melgram_path, \"train/melgrams/X.npy\"))\n",
        "labels_train = np.load(os.path.join(melgram_path, \"train/melgrams/labels.npy\"))\n",
        "\n",
        "X_val = np.load(os.path.join(melgram_path, \"val/melgrams/X.npy\"))\n",
        "labels_val = np.load(os.path.join(melgram_path, \"val/melgrams/labels.npy\"))\n",
        "\n",
        "X_test = np.load(os.path.join(melgram_path, \"test/melgrams/X.npy\"))\n",
        "labels_test = np.load(os.path.join(melgram_path, \"test/melgrams/labels.npy\"))"
      ]
    },
    {
      "cell_type": "code",
      "execution_count": null,
      "metadata": {
        "id": "YSbMD4iR5AOb"
      },
      "outputs": [],
      "source": [
        "unique_labels_train, Y_train = np.unique(labels_train, return_inverse=True)\n",
        "\n",
        "unique_labels_val, Y_val = np.unique(labels_val, return_inverse=True)\n",
        "\n",
        "unique_labels_test, Y_test = np.unique(labels_test, return_inverse=True)"
      ]
    },
    {
      "cell_type": "code",
      "execution_count": null,
      "metadata": {
        "id": "wazurHth5AOc"
      },
      "outputs": [],
      "source": [
        "class melgramDataset(Dataset):\n",
        "\n",
        "  def __init__(self, x, y):\n",
        "    x = x[:, np.newaxis, :, :]\n",
        "    self.x = torch.from_numpy(x)\n",
        "    self.y = torch.from_numpy(y)\n",
        "    self.len = len(self.y)\n",
        "\n",
        "  def __len__(self):\n",
        "    return self.len\n",
        "\n",
        "  def __getitem__(self, idx):\n",
        "    return self.x[idx], self.y[idx]"
      ]
    },
    {
      "cell_type": "code",
      "execution_count": null,
      "metadata": {
        "id": "bopPE5o75AOc"
      },
      "outputs": [],
      "source": [
        "train_dataset = melgramDataset(X_train, Y_train)\n",
        "val_dataset = melgramDataset(X_val, Y_val)\n",
        "test_dataset = melgramDataset(X_test, Y_test)\n",
        "\n",
        "train_dataloader = DataLoader(dataset = train_dataset, batch_size=16, shuffle = True)\n",
        "val_dataloader = DataLoader(dataset = val_dataset, batch_size=16, shuffle = True)\n",
        "test_dataloader = DataLoader(dataset = test_dataset, batch_size=16)"
      ]
    },
    {
      "cell_type": "markdown",
      "metadata": {
        "id": "rdtPCx_xEnlV"
      },
      "source": [
        "We also visualize a random melgram from each class."
      ]
    },
    {
      "cell_type": "code",
      "execution_count": null,
      "metadata": {
        "colab": {
          "base_uri": "https://localhost:8080/",
          "height": 587
        },
        "id": "z2SUGFuw6wm4",
        "outputId": "51fddcd3-7ff1-4d8b-99d2-903b315ffa45"
      },
      "outputs": [
        {
          "data": {
            "image/png": "[encoded data removed]",
            "text/plain": [
              "<Figure size 2000x1000 with 4 Axes>"
            ]
          },
          "metadata": {},
          "output_type": "display_data"
        }
      ],
      "source": [
        "fig, axs = plt.subplots(2, 2, figsize=(20, 10))\n",
        "axs = axs.ravel()\n",
        "\n",
        "for i, music_kind in enumerate(unique_labels_train):\n",
        "\n",
        "  indexes = np.where(labels_train == music_kind)[0]\n",
        "  random_index = random.choice(indexes)\n",
        "  librosa.display.specshow(X_train[random_index].T, ax=axs[i], x_axis='s', y_axis='log')\n",
        "  axs[i].title.set_text(f\"{music_kind} [{random_index}]\")"
      ]
    },
    {
      "cell_type": "markdown",
      "metadata": {
        "id": "-j3BgPHIEnlV"
      },
      "source": [
        "### Step 2: Definition of a Convolutional Neural Network\n",
        "\n",
        "We define a convolutional neural network with 5 channels, the output of which is given as an input to a fully-connected neural network consisted of 4 hidden layers."
      ]
    },
    {
      "cell_type": "code",
      "execution_count": null,
      "metadata": {
        "id": "ek3bR9YlBSU0"
      },
      "outputs": [],
      "source": [
        "class cnn(nn.Module):\n",
        "\n",
        "  def __init__(self, num_classes, kernel, padding, strides, pooling=False, pooling_kernel_size = None, activation_function=None, batch_norm=False, dropout=None):\n",
        "    super(cnn, self).__init__()\n",
        "\n",
        "    self.pooling = pooling\n",
        "    self.activation_function = activation_function\n",
        "    self.batch_norm = batch_norm\n",
        "\n",
        "    self.conv1 = nn.Conv2d(1, 16, kernel_size=kernel, padding=padding)\n",
        "    self.conv2 = nn.Conv2d(16, 32, kernel_size=kernel, padding=padding)\n",
        "    self.conv3 = nn.Conv2d(32, 64, kernel_size=kernel, padding=padding)\n",
        "    self.conv4 = nn.Conv2d(64, 128, kernel_size=kernel, padding=padding)\n",
        "\n",
        "    self.batch_norm1 = nn.BatchNorm2d(16)\n",
        "    self.batch_norm2 = nn.BatchNorm2d(32)\n",
        "    self.batch_norm3 = nn.BatchNorm2d(64)\n",
        "    self.batch_norm4 = nn.BatchNorm2d(128)\n",
        "\n",
        "    self.flatten = nn.Flatten()\n",
        "\n",
        "    # calculation of the dimension of the last convolutional layer\n",
        "    height = 21\n",
        "    width = 128\n",
        "\n",
        "    for i in range(4):\n",
        "      height = (height - kernel + 2*padding) / strides + 1\n",
        "      width = (width - kernel + 2*padding) / strides + 1\n",
        "\n",
        "      if pooling:\n",
        "        height = np.floor((height - pooling_kernel_size) / pooling_kernel_size + 1)\n",
        "        width = np.floor((width - pooling_kernel_size) / pooling_kernel_size + 1)\n",
        "\n",
        "    conv4_output_dimension = int(height * width * 128)\n",
        "\n",
        "    self.dropout_value = dropout\n",
        "    if self.dropout_value:\n",
        "      self.dropout_function = torch.nn.Dropout(dropout)\n",
        "\n",
        "    self.linear1 = nn.Linear(conv4_output_dimension, 1024)\n",
        "    self.linear2 = nn.Linear(1024, 256)\n",
        "    self.linear3 = nn.Linear(256, 32)\n",
        "    self.linear4 = nn.Linear(32, num_classes)\n",
        "\n",
        "  def forward(self, x):\n",
        "\n",
        "    out = self.conv1(x)\n",
        "    if self.batch_norm:\n",
        "      out = self.batch_norm1(out)\n",
        "    if self.activation_function:\n",
        "      out = self.activation_function(out)\n",
        "    if self.pooling:\n",
        "      out = F.max_pool2d(out, kernel_size = 2)\n",
        "\n",
        "    out = self.conv2(out)\n",
        "    if self.batch_norm:\n",
        "      out = self.batch_norm2(out)\n",
        "    if self.activation_function:\n",
        "      out = self.activation_function(out)\n",
        "    if self.pooling:\n",
        "      out = F.max_pool2d(out, kernel_size = 2)\n",
        "\n",
        "    out = self.conv3(out)\n",
        "    if self.batch_norm:\n",
        "      out = self.batch_norm3(out)\n",
        "    if self.activation_function:\n",
        "      out = self.activation_function(out)\n",
        "    if self.pooling:\n",
        "      out = F.max_pool2d(out, kernel_size = 2)\n",
        "\n",
        "    out = self.conv4(out)\n",
        "    if self.batch_norm:\n",
        "      out = self.batch_norm4(out)\n",
        "    if self.activation_function:\n",
        "      out = self.activation_function(out)\n",
        "    if self.pooling:\n",
        "      out = F.max_pool2d(out, kernel_size = 2)\n",
        "\n",
        "    out = self.flatten(out)\n",
        "\n",
        "    if self.activation_function:\n",
        "      out = self.activation_function(out)\n",
        "    if self.dropout_value:\n",
        "      out = self.dropout_function(out)\n",
        "    out = self.linear1(out)\n",
        "\n",
        "    if self.activation_function:\n",
        "      out = self.activation_function(out)\n",
        "    if self.dropout_value:\n",
        "      out = self.dropout_function(out)\n",
        "    out = self.linear2(out)\n",
        "\n",
        "    if self.activation_function:\n",
        "      out = self.activation_function(out)\n",
        "    if self.dropout_value:\n",
        "      out = self.dropout_function(out)\n",
        "    out = self.linear3(out)\n",
        "\n",
        "    if self.dropout_value:\n",
        "      out = self.dropout_function(out)\n",
        "    if self.activation_function:\n",
        "      out = self.activation_function(out)\n",
        "    out = self.linear4(out)\n",
        "\n",
        "    return out"
      ]
    },
    {
      "cell_type": "markdown",
      "metadata": {
        "id": "f07gH-b9EnlW"
      },
      "source": [
        "### Step 3: Network training\n",
        "\n",
        "The training function doesn't neet to be changed, since it can handle any type of network."
      ]
    },
    {
      "cell_type": "code",
      "execution_count": null,
      "metadata": {
        "colab": {
          "base_uri": "https://localhost:8080/",
          "height": 443
        },
        "id": "N1Z7HsHaFVBt",
        "outputId": "2454c7a6-4adc-44c6-82d6-4c6c54898614"
      },
      "outputs": [
        {
          "name": "stdout",
          "output_type": "stream",
          "text": [
            "Epoch 0\n",
            "Training Loss: nan\n",
            "Epoch 1\n",
            "Training Loss: nan\n",
            "Epoch 2\n",
            "Training Loss: nan\n",
            "Epoch 3\n",
            "Training Loss: nan\n",
            "Epoch 4\n",
            "Training Loss: nan\n",
            "Epoch 5\n",
            "Training Loss: nan\n",
            "Epoch 6\n",
            "Training Loss: nan\n",
            "Epoch 7\n",
            "Training Loss: nan\n",
            "Epoch 8\n",
            "Training Loss: nan\n",
            "Epoch 9\n",
            "Training Loss: nan\n",
            "Epoch 10\n",
            "Training Loss: nan\n",
            "Epoch 11\n",
            "Training Loss: nan\n",
            "Epoch 12\n",
            "Training Loss: nan\n",
            "Epoch 13\n",
            "Training Loss: nan\n",
            "Epoch 14\n",
            "Training Loss: nan\n",
            "Epoch 15\n",
            "Training Loss: nan\n",
            "Epoch 16\n",
            "Training Loss: nan\n",
            "Epoch 17\n",
            "Training Loss: nan\n",
            "Epoch 18\n",
            "Training Loss: nan\n",
            "Epoch 19\n",
            "Training Loss: nan\n",
            "Epoch 20\n",
            "Training Loss: nan\n",
            "Epoch 21\n",
            "Training Loss: nan\n",
            "Epoch 22\n",
            "Training Loss: nan\n",
            "Epoch 23\n",
            "Training Loss: nan\n",
            "Epoch 24\n",
            "Training Loss: nan\n",
            "Epoch 25\n",
            "Training Loss: nan\n",
            "Epoch 26\n",
            "Training Loss: nan\n",
            "Epoch 27\n",
            "Training Loss: nan\n",
            "Epoch 28\n",
            "Training Loss: nan\n",
            "Epoch 29\n",
            "Training Loss: nan\n",
            "\n",
            "----Evaluation:----\n",
            "\n",
            "Mean Loss: nan\n",
            "F1-Score (macro averaged): 0.09529411764705882\n",
            "Accuracy: 0.23546511627906977\n",
            "Confusion Matrix:\n",
            " [[324   0   0   0]\n",
            " [297   0   0   0]\n",
            " [356   0   0   0]\n",
            " [399   0   0   0]]\n"
          ]
        }
      ],
      "source": [
        "device = \"mps\" if getattr(torch,'has_mps',False) \\\n",
        "    else \"cuda\" if torch.cuda.is_available() else \"cpu\"\n",
        "\n",
        "kernel = 5\n",
        "padding = 0\n",
        "strides = 1\n",
        "\n",
        "model = cnn(num_classes, kernel, padding, strides).to(device)\n",
        "\n",
        "optimizer = torch.optim.SGD(model.parameters(), lr=learning_rate)\n",
        "\n",
        "model = training(num_epochs, optimizer, train_dataloader, criterion, model, device, val_dataloader = val_dataloader, best_name='best_cnn_model', display_loss=True)\n",
        "\n",
        "model = cnn(num_classes, kernel, padding, strides)\n",
        "model.load_state_dict(torch.load('best_cnn_model'))\n",
        "model = model.to(device)\n",
        "\n",
        "_, _, _, _, _, _ = evaluation(test_dataloader, criterion, model, device, print_output = True)"
      ]
    },
    {
      "cell_type": "markdown",
      "metadata": {
        "id": "KD7_sPySEnlW"
      },
      "source": [
        "It is evident that the network can not be trained, which is due to the training loss constantly increasing. The final F1-score on the testin dataset is only 9%."
      ]
    },
    {
      "cell_type": "markdown",
      "metadata": {
        "id": "LSUoYo5mEnlW"
      },
      "source": [
        "### Step 4: Pooling and padding\n",
        "\n",
        "That 's why we include max pooling with a kernel size of 2 and padding of 2."
      ]
    },
    {
      "cell_type": "code",
      "execution_count": null,
      "metadata": {
        "colab": {
          "base_uri": "https://localhost:8080/"
        },
        "id": "TOUnrT-pzD5p",
        "outputId": "e721b849-9c20-46a3-fdbd-12e209f3ef7f"
      },
      "outputs": [
        {
          "name": "stdout",
          "output_type": "stream",
          "text": [
            "Epoch 0\n",
            "Training Loss: 1.8088870388269425\n",
            "Epoch 1\n",
            "Training Loss: 1.2650153729319573\n",
            "Epoch 2\n",
            "Training Loss: 1.1226712214946746\n",
            "Epoch 3\n",
            "Training Loss: 1.01609743475914\n",
            "Epoch 4\n",
            "Training Loss: 0.9399868273735046\n",
            "Epoch 5\n",
            "Training Loss: 0.8967597053945064\n",
            "Epoch 6\n",
            "Training Loss: 0.8458709082007408\n",
            "Epoch 7\n",
            "Training Loss: 0.8074191878736019\n",
            "Epoch 8\n",
            "Training Loss: 0.7788842234015465\n",
            "Epoch 9\n",
            "Training Loss: 0.749342170059681\n",
            "Epoch 10\n",
            "Training Loss: 0.7197715517878532\n",
            "Epoch 11\n",
            "Training Loss: 0.6978339375555516\n",
            "Epoch 12\n",
            "Training Loss: 0.6699455158412456\n",
            "Epoch 13\n",
            "Training Loss: 0.642427942827344\n",
            "Epoch 14\n",
            "Training Loss: 0.6245133157074452\n",
            "Epoch 15\n",
            "Training Loss: 0.591976486518979\n",
            "Epoch 16\n",
            "Training Loss: 0.5619587448984384\n",
            "Epoch 17\n",
            "Training Loss: 0.5366131885349751\n",
            "Epoch 18\n",
            "Training Loss: 0.5064324473589659\n",
            "Epoch 19\n",
            "Training Loss: 0.4742392461746931\n",
            "Epoch 20\n",
            "Training Loss: 0.43965472385287285\n",
            "Epoch 21\n",
            "Training Loss: 0.4162399112805724\n",
            "Epoch 22\n",
            "Training Loss: 0.38040547881275416\n",
            "Epoch 23\n",
            "Training Loss: 0.34071158364415166\n",
            "Epoch 24\n",
            "Training Loss: 0.31718358121812346\n",
            "Epoch 25\n",
            "Training Loss: 0.27961890006437895\n",
            "Epoch 26\n",
            "Training Loss: 0.23913483049720527\n",
            "Epoch 27\n",
            "Training Loss: 0.19412742901593447\n",
            "Epoch 28\n",
            "Training Loss: 0.1536554327979684\n",
            "Epoch 29\n",
            "Training Loss: 0.14200559639837593\n",
            "\n",
            "----Evaluation:----\n",
            "\n",
            "Mean Loss: 0.9463533759821033\n",
            "F1-Score (macro averaged): 0.6956262873753041\n",
            "Accuracy: 0.688953488372093\n",
            "Confusion Matrix:\n",
            " [[229  11  37  47]\n",
            " [ 37 249   5   6]\n",
            " [ 37   3 294  22]\n",
            " [142   8  73 176]]\n"
          ]
        }
      ],
      "source": [
        "kernel = 5\n",
        "padding = 2\n",
        "strides = 1\n",
        "pooling_kernel_size = 2\n",
        "\n",
        "model = cnn(num_classes, kernel, padding, strides, pooling=True, pooling_kernel_size=pooling_kernel_size).to(device)\n",
        "\n",
        "optimizer = torch.optim.SGD(model.parameters(), lr=learning_rate)\n",
        "\n",
        "model = training(num_epochs, optimizer, train_dataloader, criterion, model, device, val_dataloader = val_dataloader, best_name='best_cnn_model', display_loss=True)\n",
        "\n",
        "model = cnn(num_classes, kernel, padding, strides, pooling=True, pooling_kernel_size=pooling_kernel_size)\n",
        "model.load_state_dict(torch.load('best_cnn_model'))\n",
        "model = model.to(device)\n",
        "\n",
        "_, _, _, _, _, _ = evaluation(test_dataloader, criterion, model, device, print_output = True)"
      ]
    },
    {
      "cell_type": "markdown",
      "metadata": {
        "id": "eOX2QuCUEnlW"
      },
      "source": [
        "Maximum pooling is a pooling operation that calculates the maximum value in each moving window of each feature map.\n",
        "This results in down sampled feature maps that highlight the most prominent feature in each window we examine.\n",
        "\n",
        "Padding is a technique used to preserve the spatial dimensions of the input array after convolution operations on a feature map, such as maximum pooling used here.\n",
        "Padding involves adding extra pixels around the border of the input feature map before convolution.\n",
        "\n",
        "It is evident that when using maximum pooling along with the appropriate padding, the features highlighted result in a very improved performance. Here, the F1-score has been increased to more than 69%."
      ]
    },
    {
      "cell_type": "markdown",
      "metadata": {
        "id": "5TMGRVujEnlX"
      },
      "source": [
        "### Step 5: Optimization algorithms"
      ]
    },
    {
      "cell_type": "code",
      "execution_count": null,
      "metadata": {
        "id": "5q0gp-sZDdXY",
        "outputId": "207f05e6-8a35-457a-ce3f-3dfc1ef0464d"
      },
      "outputs": [
        {
          "name": "stdout",
          "output_type": "stream",
          "text": [
            "\n",
            "----- adadelta -----\n",
            "\n",
            "----Evaluation:----\n",
            "\n",
            "Mean Loss: 0.8873841422068518\n",
            "F1-Score (macro averaged): 0.6319008743696839\n",
            "Accuracy: 0.6300872093023255\n",
            "Confusion Matrix:\n",
            " [[145  33  56  90]\n",
            " [ 37 246   9   5]\n",
            " [ 34  10 261  51]\n",
            " [ 82  19  83 215]]\n",
            "\n",
            "----- adagrad -----\n",
            "\n",
            "----Evaluation:----\n",
            "\n",
            "Mean Loss: 0.7617955166757848\n",
            "F1-Score (macro averaged): 0.7500770438493627\n",
            "Accuracy: 0.7420058139534884\n",
            "Confusion Matrix:\n",
            " [[220  12  34  58]\n",
            " [ 29 258   1   9]\n",
            " [ 46   5 279  26]\n",
            " [ 99   8  28 264]]\n",
            "\n",
            "----- adam -----\n",
            "\n",
            "----Evaluation:----\n",
            "\n",
            "Mean Loss: 0.8788677071574226\n",
            "F1-Score (macro averaged): 0.6801781251262276\n",
            "Accuracy: 0.6765988372093024\n",
            "Confusion Matrix:\n",
            " [[228  45  11  40]\n",
            " [  6 289   1   1]\n",
            " [ 98   9 225  24]\n",
            " [134  60  16 189]]\n",
            "\n",
            "----- adamw -----\n",
            "\n",
            "----Evaluation:----\n",
            "\n",
            "Mean Loss: 0.7689262231484294\n",
            "F1-Score (macro averaged): 0.7440924171164586\n",
            "Accuracy: 0.7441860465116279\n",
            "Confusion Matrix:\n",
            " [[161  12  36 115]\n",
            " [ 14 271   1  11]\n",
            " [ 24   6 283  43]\n",
            " [ 46  12  32 309]]\n",
            "\n",
            "----- adamax -----\n",
            "\n",
            "----Evaluation:----\n",
            "\n",
            "Mean Loss: 1.5977882520379594\n",
            "F1-Score (macro averaged): 0.7595010451796977\n",
            "Accuracy: 0.7543604651162791\n",
            "Confusion Matrix:\n",
            " [[207  15  24  78]\n",
            " [ 24 261   1  11]\n",
            " [ 24   4 295  33]\n",
            " [ 82  16  26 275]]\n",
            "\n",
            "----- asgd -----\n",
            "\n",
            "----Evaluation:----\n",
            "\n",
            "Mean Loss: 2.528163538359073\n",
            "F1-Score (macro averaged): 0.7594647223852454\n",
            "Accuracy: 0.7550872093023255\n",
            "Confusion Matrix:\n",
            " [[208  17  26  73]\n",
            " [ 24 263   0  10]\n",
            " [ 26   5 293  32]\n",
            " [ 79  18  27 275]]\n",
            "\n",
            "----- nadam -----\n",
            "\n",
            "----Evaluation:----\n",
            "\n",
            "Mean Loss: 1.4543603832710341\n",
            "F1-Score (macro averaged): 0.705452017870637\n",
            "Accuracy: 0.6947674418604651\n",
            "Confusion Matrix:\n",
            " [[199  17  23  85]\n",
            " [ 29 253   3  12]\n",
            " [ 49   3 274  30]\n",
            " [123  12  34 230]]\n",
            "\n",
            "----- radam -----\n",
            "\n",
            "----Evaluation:----\n",
            "\n",
            "Mean Loss: nan\n",
            "F1-Score (macro averaged): 0.09529411764705882\n",
            "Accuracy: 0.23546511627906977\n",
            "Confusion Matrix:\n",
            " [[324   0   0   0]\n",
            " [297   0   0   0]\n",
            " [356   0   0   0]\n",
            " [399   0   0   0]]\n",
            "\n",
            "----- sgd -----\n",
            "\n",
            "----Evaluation:----\n",
            "\n",
            "Mean Loss: nan\n",
            "F1-Score (macro averaged): 0.09529411764705882\n",
            "Accuracy: 0.23546511627906977\n",
            "Confusion Matrix:\n",
            " [[324   0   0   0]\n",
            " [297   0   0   0]\n",
            " [356   0   0   0]\n",
            " [399   0   0   0]]\n"
          ]
        }
      ],
      "source": [
        "kernel = 5\n",
        "padding = 2\n",
        "strides = 1\n",
        "pooling_kernel_size = 2\n",
        "\n",
        "model = cnn(num_classes, kernel, padding, strides, pooling=True, pooling_kernel_size=pooling_kernel_size).to(device)\n",
        "\n",
        "optimizers = [(torch.optim.Adadelta(model.parameters(), lr=learning_rate), \"adadelta\"),\n",
        "              (torch.optim.Adagrad(model.parameters(), lr=learning_rate), \"adagrad\"),\n",
        "              (torch.optim.Adam(model.parameters(), lr=learning_rate), \"adam\"),\n",
        "              (torch.optim.AdamW(model.parameters(), lr=learning_rate), \"adamw\"),\n",
        "              (torch.optim.Adamax(model.parameters(), lr=learning_rate), \"adamax\"),\n",
        "              (torch.optim.ASGD(model.parameters(), lr=learning_rate), \"asgd\"),\n",
        "              (torch.optim.NAdam(model.parameters(), lr=learning_rate), \"nadam\"),\n",
        "              (torch.optim.RAdam(model.parameters(), lr=learning_rate), \"radam\"),\n",
        "              (torch.optim.SGD(model.parameters(), lr=learning_rate), \"sgd\")]\n",
        "\n",
        "for optimizer, optimizer_name in optimizers:\n",
        "    print(\"\\n-----\", optimizer_name, \"-----\")\n",
        "\n",
        "    model_new = training(num_epochs, optimizer, train_dataloader, criterion, model, device, val_dataloader = val_dataloader, best_name='best_cnn_model')\n",
        "\n",
        "    model_new = cnn(num_classes, kernel, padding, strides, pooling=True, pooling_kernel_size=pooling_kernel_size)\n",
        "    model_new.load_state_dict(torch.load('best_cnn_model'))\n",
        "    model_new = model_new.to(device)\n",
        "\n",
        "    _, _, _, _, _, _ = evaluation(test_dataloader, criterion, model_new, device, print_output = True)"
      ]
    },
    {
      "cell_type": "markdown",
      "metadata": {
        "id": "CZYutooVEnlX"
      },
      "source": [
        "| Metrics  | Adadelta | Adagrad | Adam   | AdamW  | Adamax | ASGD   | Nadam  | RAdam  | SGD    |\n",
        "|----------|----------|---------|--------|--------|--------|--------|--------|--------|--------|\n",
        "| Accuracy | 0.6301   | 0.7420  | 0.6766 | 0.7442 | 0.7544 | 0.7551 | 0.6948 | 0.2355 | 0.2355 |\n",
        "| F1-Score | 0.6319   | 0.7501  | 0.6802 | 0.7441 | 0.7595 | 0.7595 | 0.7055 | 0.0953 | 0.0953 |\n",
        "\n",
        "We can see that:\n",
        "\n",
        "- The best optimizers in terms of both accuracy and F1-score are Adagrad, AdamW, Adamax, and ASGD, with relatively higher values compared to others.\n",
        "\n",
        "- The worst performing optimizers, based on the low accuracy and F1-score, are RAdam and SGD. These optimizers seem to have poor convergence, resulting in significantly lower performance.\n",
        "Adadelta, Adam, and Nadam have intermediate performance, with moderate accuracy and F1-scores.\n",
        "\n",
        "- Overall, using one of the best performing optimizers for this problem, we can increase F1-score from about 69% to about 76%."
      ]
    },
    {
      "cell_type": "markdown",
      "metadata": {
        "id": "sFs3eg4MDdXY"
      },
      "source": [
        "# Exercise 3: Improving Performance\n",
        "\n",
        "### Step 1: Reproducibility\n",
        "\n",
        "Add a seed to every possible library."
      ]
    },
    {
      "cell_type": "code",
      "execution_count": null,
      "metadata": {
        "id": "kHwS1FylDdXY"
      },
      "outputs": [],
      "source": [
        "def torch_seed(seed=42):\n",
        "    random.seed(seed)\n",
        "    np.random.seed(seed)\n",
        "    torch.manual_seed(seed)\n",
        "    torch.backends.cudnn.deterministic = True\n",
        "    torch.backends.cudnn.benchmark = False\n",
        "    torch.cuda.manual_seed_all(seed)\n",
        "    os.environ['PYTHONHASHSEED'] = str(seed)\n",
        "\n",
        "torch_seed()"
      ]
    },
    {
      "cell_type": "markdown",
      "metadata": {
        "id": "HSZBchjXDdXZ"
      },
      "source": [
        "Using the seed we provided above, we now train our base model, in order to use its results as reference later."
      ]
    },
    {
      "cell_type": "code",
      "execution_count": null,
      "metadata": {
        "id": "v9AiTd34DdXZ",
        "outputId": "d1fb6d91-db20-4231-c2df-af8f687c62bb"
      },
      "outputs": [
        {
          "name": "stdout",
          "output_type": "stream",
          "text": [
            "\n",
            "----Evaluation:----\n",
            "\n",
            "Mean Loss: 0.8278560511406435\n",
            "F1-Score (macro averaged): 0.7171873212481279\n",
            "Accuracy: 0.715843023255814\n",
            "Confusion Matrix:\n",
            " [[187  32  33  72]\n",
            " [  5 279   4   9]\n",
            " [ 37   8 280  31]\n",
            " [ 84  24  52 239]]\n"
          ]
        }
      ],
      "source": [
        "kernel = 5\n",
        "padding = 2\n",
        "strides = 1\n",
        "pooling_kernel_size = 2\n",
        "\n",
        "model = cnn(num_classes, kernel, padding, strides, pooling=True, pooling_kernel_size=pooling_kernel_size).to(device)\n",
        "\n",
        "optimizer = torch.optim.SGD(model.parameters(), lr=learning_rate)\n",
        "\n",
        "model = training(num_epochs, optimizer, train_dataloader, criterion, model, device, val_dataloader = val_dataloader, best_name='best_cnn_model')\n",
        "\n",
        "model = cnn(num_classes, kernel, padding, strides, pooling=True, pooling_kernel_size=pooling_kernel_size)\n",
        "model.load_state_dict(torch.load('best_cnn_model'))\n",
        "model = model.to(device)\n",
        "\n",
        "_, _, _, _, _, _ = evaluation(test_dataloader, criterion, model, device, print_output = True)"
      ]
    },
    {
      "cell_type": "markdown",
      "metadata": {
        "id": "z2t5cFhCEnlX"
      },
      "source": [
        "So the F1-Score without performing any optimizations is 71.7%."
      ]
    },
    {
      "cell_type": "markdown",
      "metadata": {
        "id": "Vxh_Qee8EnlX"
      },
      "source": [
        "### Step 2: Activation functions\n",
        "\n",
        "We will try different activation functions in both the convolutional and the linear layers, in order to help the model learn non-linear relations of the data."
      ]
    },
    {
      "cell_type": "code",
      "execution_count": null,
      "metadata": {
        "id": "YMlb9mnrDdXZ",
        "outputId": "880ac690-e9e1-4b0c-e54e-a3c26ef97ebc"
      },
      "outputs": [
        {
          "name": "stdout",
          "output_type": "stream",
          "text": [
            "\n",
            "----- elu -----\n",
            "\n",
            "----Evaluation:----\n",
            "\n",
            "Mean Loss: 0.7082252456958211\n",
            "F1-Score (macro averaged): 0.7148306159670834\n",
            "Accuracy: 0.7165697674418605\n",
            "Confusion Matrix:\n",
            " [[150  19  49 106]\n",
            " [ 36 253   5   3]\n",
            " [ 39   2 281  34]\n",
            " [ 55  13  29 302]]\n",
            "\n",
            "----- hardsigmoid -----\n",
            "\n",
            "----Evaluation:----\n",
            "\n",
            "Mean Loss: 7.052287506502728\n",
            "F1-Score (macro averaged): 0.09529411764705882\n",
            "Accuracy: 0.23546511627906977\n",
            "Confusion Matrix:\n",
            " [[324   0   0   0]\n",
            " [297   0   0   0]\n",
            " [356   0   0   0]\n",
            " [399   0   0   0]]\n",
            "\n",
            "----- hardswish -----\n",
            "\n",
            "----Evaluation:----\n",
            "\n",
            "Mean Loss: 0.718550049472427\n",
            "F1-Score (macro averaged): 0.7371394578722081\n",
            "Accuracy: 0.7311046511627907\n",
            "Confusion Matrix:\n",
            " [[214  28  30  52]\n",
            " [ 35 257   5   0]\n",
            " [ 55   2 265  34]\n",
            " [ 86  12  31 270]]\n",
            "\n",
            "----- leakyrelu -----\n",
            "\n",
            "----Evaluation:----\n",
            "\n",
            "Mean Loss: 0.9556499678035115\n",
            "F1-Score (macro averaged): 0.5901652427707996\n",
            "Accuracy: 0.5959302325581395\n",
            "Confusion Matrix:\n",
            " [[122  20  93  89]\n",
            " [ 57 206  27   7]\n",
            " [ 13  10 312  21]\n",
            " [ 49  18 152 180]]\n",
            "\n",
            "----- relu -----\n",
            "\n",
            "----Evaluation:----\n",
            "\n",
            "Mean Loss: 0.8258846625902279\n",
            "F1-Score (macro averaged): 0.658195680785102\n",
            "Accuracy: 0.6613372093023255\n",
            "Confusion Matrix:\n",
            " [[140  40  42 102]\n",
            " [ 12 276   8   1]\n",
            " [ 26  14 266  50]\n",
            " [ 71  23  77 228]]\n",
            "\n",
            "----- sigmoid -----\n",
            "\n",
            "----Evaluation:----\n",
            "\n",
            "Mean Loss: 7.4236988189608555\n",
            "F1-Score (macro averaged): 0.1123943661971831\n",
            "Accuracy: 0.28997093023255816\n",
            "Confusion Matrix:\n",
            " [[  0   0   0 324]\n",
            " [  0   0   0 297]\n",
            " [  0   0   0 356]\n",
            " [  0   0   0 399]]\n",
            "\n",
            "----- softplus -----\n",
            "\n",
            "----Evaluation:----\n",
            "\n",
            "Mean Loss: 0.7579284522595794\n",
            "F1-Score (macro averaged): 0.7116650931393173\n",
            "Accuracy: 0.7100290697674418\n",
            "Confusion Matrix:\n",
            " [[163  27  36  98]\n",
            " [ 27 260   9   1]\n",
            " [ 46   4 263  43]\n",
            " [ 70  10  28 291]]\n",
            "\n",
            "----- silu -----\n",
            "\n",
            "----Evaluation:----\n",
            "\n",
            "Mean Loss: 0.8499156909799853\n",
            "F1-Score (macro averaged): 0.6684380838279165\n",
            "Accuracy: 0.6722383720930233\n",
            "Confusion Matrix:\n",
            " [[161  48  74  41]\n",
            " [ 22 256  19   0]\n",
            " [ 33  10 302  11]\n",
            " [ 99  22  72 206]]\n"
          ]
        }
      ],
      "source": [
        "kernel = 5\n",
        "padding = 2\n",
        "strides = 1\n",
        "pooling_kernel_size = 2\n",
        "\n",
        "activations = [(torch.nn.ELU(), \"elu\"),\n",
        "              (torch.nn.Hardsigmoid(), \"hardsigmoid\"),\n",
        "              (torch.nn.Hardswish(), \"hardswish\"),\n",
        "              (torch.nn.LeakyReLU(), \"leakyrelu\"),\n",
        "              (torch.nn.ReLU(), \"relu\"),\n",
        "              (torch.nn.Sigmoid(), \"sigmoid\"),\n",
        "              (torch.nn.Softplus(), \"softplus\"),\n",
        "              (torch.nn.SiLU(), \"silu\")]\n",
        "\n",
        "for activation, activation_name in activations:\n",
        "    print(\"\\n-----\", activation_name, \"-----\")\n",
        "\n",
        "    model = cnn(num_classes, kernel, padding, strides, pooling=True, pooling_kernel_size=pooling_kernel_size, activation_function=activation).to(device)\n",
        "\n",
        "    optimizer = torch.optim.SGD(model.parameters(), lr=learning_rate)\n",
        "\n",
        "    model = training(num_epochs, optimizer, train_dataloader, criterion, model, device, val_dataloader = val_dataloader, best_name='best_cnn_model')\n",
        "\n",
        "    model = cnn(num_classes, kernel, padding, strides, pooling=True, pooling_kernel_size=pooling_kernel_size, activation_function=activation)\n",
        "    model.load_state_dict(torch.load('best_cnn_model'))\n",
        "    model = model.to(device)\n",
        "\n",
        "    _, _, _, _, _, _ = evaluation(test_dataloader, criterion, model, device, print_output = True)"
      ]
    },
    {
      "cell_type": "markdown",
      "metadata": {
        "id": "DC-lhVxpEnlY"
      },
      "source": [
        "| Activation Function | Accuracy | F1-Score |\n",
        "|---------------------|----------|----------|\n",
        "| ELU                 | 0.7166   | 0.7148   |\n",
        "| HardSigmoid         | 0.2355   | 0.0953   |\n",
        "| HardSwish           | 0.7311   | 0.7371   |\n",
        "| LeakyReLU           | 0.5959   | 0.5902   |\n",
        "| ReLU                | 0.6613   | 0.6582   |\n",
        "| Sigmoid             | 0.2899   | 0.1124   |\n",
        "| Softplus            | 0.7100   | 0.7117   |\n",
        "| SiLU                | 0.6722   | 0.6684   |\n",
        "\n",
        "We can see that:\n",
        "\n",
        "- The best-performing activation functions based on both accuracy and F1-score seem to be HardSwish, ELU (Exponential Linear Unit) and Softplus, with an accuracy and F1-score of more than 71-73%.\n",
        "\n",
        "- The worst-performing activation functions based on both accuracy and F1-score are HardSigmoid and Sigmoid, with very low values for both metrics, that are worse even than random chance. These activation functions are not suitable for the given dataset of melgrams.\n",
        "\n",
        "- Overall, by using an activation function such as HardSwish we can improve F1-score from 71.7% to 73.7%."
      ]
    },
    {
      "cell_type": "markdown",
      "metadata": {
        "id": "vhZNlfCfEnlY"
      },
      "source": [
        "### Step 3: Learning rate scheduler\n",
        "\n",
        "We will now use different learning rate schedulers that are able to adjust the learning rate between epochs or iterations as the training progresses, using the history of loss values."
      ]
    },
    {
      "cell_type": "code",
      "execution_count": null,
      "metadata": {
        "id": "ZM3pGRkwDdXZ",
        "outputId": "c60fa11a-cfea-448a-a7b2-4d85fd97e506"
      },
      "outputs": [
        {
          "name": "stdout",
          "output_type": "stream",
          "text": [
            "Adjusting learning rate of group 0 to 2.0000e-03.\n",
            "Adjusting learning rate of group 0 to 2.0000e-03.\n",
            "Adjusting learning rate of group 0 to 2.0000e-03.\n",
            "Adjusting learning rate of group 0 to 6.6667e-04.\n",
            "Adjusting learning rate of group 0 to 6.6667e-04.\n",
            "\n",
            "----- lambdalr -----\n",
            "Adjusting learning rate of group 0 to 1.8000e-03.\n",
            "Adjusting learning rate of group 0 to 1.6200e-03.\n",
            "Adjusting learning rate of group 0 to 1.4580e-03.\n",
            "Adjusting learning rate of group 0 to 1.3122e-03.\n",
            "Adjusting learning rate of group 0 to 1.1810e-03.\n",
            "Adjusting learning rate of group 0 to 1.0629e-03.\n",
            "Adjusting learning rate of group 0 to 9.5659e-04.\n",
            "Adjusting learning rate of group 0 to 8.6093e-04.\n",
            "Adjusting learning rate of group 0 to 7.7484e-04.\n",
            "Adjusting learning rate of group 0 to 6.9736e-04.\n",
            "Adjusting learning rate of group 0 to 6.2762e-04.\n",
            "Adjusting learning rate of group 0 to 5.6486e-04.\n",
            "Adjusting learning rate of group 0 to 5.0837e-04.\n",
            "Adjusting learning rate of group 0 to 4.5754e-04.\n",
            "Adjusting learning rate of group 0 to 4.1178e-04.\n",
            "Adjusting learning rate of group 0 to 3.7060e-04.\n",
            "Adjusting learning rate of group 0 to 3.3354e-04.\n",
            "Adjusting learning rate of group 0 to 3.0019e-04.\n",
            "Adjusting learning rate of group 0 to 2.7017e-04.\n",
            "Adjusting learning rate of group 0 to 2.4315e-04.\n",
            "Adjusting learning rate of group 0 to 2.1884e-04.\n",
            "Adjusting learning rate of group 0 to 1.9695e-04.\n",
            "Adjusting learning rate of group 0 to 1.7726e-04.\n",
            "Adjusting learning rate of group 0 to 1.5953e-04.\n",
            "Adjusting learning rate of group 0 to 1.4358e-04.\n",
            "Adjusting learning rate of group 0 to 1.2922e-04.\n",
            "Adjusting learning rate of group 0 to 1.1630e-04.\n",
            "Adjusting learning rate of group 0 to 1.0467e-04.\n",
            "Adjusting learning rate of group 0 to 9.4203e-05.\n",
            "Adjusting learning rate of group 0 to 8.4782e-05.\n",
            "\n",
            "----Evaluation:----\n",
            "\n",
            "Mean Loss: 0.7772113681056125\n",
            "F1-Score (macro averaged): 0.6877503797700626\n",
            "Accuracy: 0.6780523255813954\n",
            "Confusion Matrix:\n",
            " [[197  18  35  74]\n",
            " [ 37 253   5   2]\n",
            " [ 48   2 260  46]\n",
            " [ 99   8  69 223]]\n",
            "\n",
            "----- exponentiallr -----\n",
            "Adjusting learning rate of group 0 to 7.6304e-05.\n",
            "Adjusting learning rate of group 0 to 6.8674e-05.\n",
            "Adjusting learning rate of group 0 to 6.1806e-05.\n",
            "Adjusting learning rate of group 0 to 5.5626e-05.\n",
            "Adjusting learning rate of group 0 to 5.0063e-05.\n",
            "Adjusting learning rate of group 0 to 4.5057e-05.\n",
            "Adjusting learning rate of group 0 to 4.0551e-05.\n",
            "Adjusting learning rate of group 0 to 3.6496e-05.\n",
            "Adjusting learning rate of group 0 to 3.2846e-05.\n",
            "Adjusting learning rate of group 0 to 2.9562e-05.\n",
            "Adjusting learning rate of group 0 to 2.6606e-05.\n",
            "Adjusting learning rate of group 0 to 2.3945e-05.\n",
            "Adjusting learning rate of group 0 to 2.1551e-05.\n",
            "Adjusting learning rate of group 0 to 1.9395e-05.\n",
            "Adjusting learning rate of group 0 to 1.7456e-05.\n",
            "Adjusting learning rate of group 0 to 1.5710e-05.\n",
            "Adjusting learning rate of group 0 to 1.4139e-05.\n",
            "Adjusting learning rate of group 0 to 1.2725e-05.\n",
            "Adjusting learning rate of group 0 to 1.1453e-05.\n",
            "Adjusting learning rate of group 0 to 1.0308e-05.\n",
            "Adjusting learning rate of group 0 to 9.2768e-06.\n",
            "Adjusting learning rate of group 0 to 8.3491e-06.\n",
            "Adjusting learning rate of group 0 to 7.5142e-06.\n",
            "Adjusting learning rate of group 0 to 6.7628e-06.\n",
            "Adjusting learning rate of group 0 to 6.0865e-06.\n",
            "Adjusting learning rate of group 0 to 5.4779e-06.\n",
            "Adjusting learning rate of group 0 to 4.9301e-06.\n",
            "Adjusting learning rate of group 0 to 4.4371e-06.\n",
            "Adjusting learning rate of group 0 to 3.9934e-06.\n",
            "Adjusting learning rate of group 0 to 3.5940e-06.\n",
            "\n",
            "----Evaluation:----\n",
            "\n",
            "Mean Loss: 0.7645289540767323\n",
            "F1-Score (macro averaged): 0.6922056494486611\n",
            "Accuracy: 0.6831395348837209\n",
            "Confusion Matrix:\n",
            " [[194  18  36  76]\n",
            " [ 32 258   4   3]\n",
            " [ 45   2 261  48]\n",
            " [ 92   8  72 227]]\n",
            "\n",
            "----- steplr -----\n",
            "Adjusting learning rate of group 0 to 3.5940e-06.\n",
            "Adjusting learning rate of group 0 to 3.5940e-06.\n",
            "Adjusting learning rate of group 0 to 3.5940e-06.\n",
            "Adjusting learning rate of group 0 to 3.5940e-06.\n",
            "Adjusting learning rate of group 0 to 2.8752e-06.\n",
            "Adjusting learning rate of group 0 to 2.8752e-06.\n",
            "Adjusting learning rate of group 0 to 2.8752e-06.\n",
            "Adjusting learning rate of group 0 to 2.8752e-06.\n",
            "Adjusting learning rate of group 0 to 2.8752e-06.\n",
            "Adjusting learning rate of group 0 to 2.3002e-06.\n",
            "Adjusting learning rate of group 0 to 2.3002e-06.\n",
            "Adjusting learning rate of group 0 to 2.3002e-06.\n",
            "Adjusting learning rate of group 0 to 2.3002e-06.\n",
            "Adjusting learning rate of group 0 to 2.3002e-06.\n",
            "Adjusting learning rate of group 0 to 1.8401e-06.\n",
            "Adjusting learning rate of group 0 to 1.8401e-06.\n",
            "Adjusting learning rate of group 0 to 1.8401e-06.\n",
            "Adjusting learning rate of group 0 to 1.8401e-06.\n",
            "Adjusting learning rate of group 0 to 1.8401e-06.\n",
            "Adjusting learning rate of group 0 to 1.4721e-06.\n",
            "Adjusting learning rate of group 0 to 1.4721e-06.\n",
            "Adjusting learning rate of group 0 to 1.4721e-06.\n",
            "Adjusting learning rate of group 0 to 1.4721e-06.\n",
            "Adjusting learning rate of group 0 to 1.4721e-06.\n",
            "Adjusting learning rate of group 0 to 1.1777e-06.\n",
            "Adjusting learning rate of group 0 to 1.1777e-06.\n",
            "Adjusting learning rate of group 0 to 1.1777e-06.\n",
            "Adjusting learning rate of group 0 to 1.1777e-06.\n",
            "Adjusting learning rate of group 0 to 1.1777e-06.\n",
            "Adjusting learning rate of group 0 to 9.4215e-07.\n",
            "\n",
            "----Evaluation:----\n",
            "\n",
            "Mean Loss: 0.7606300378521514\n",
            "F1-Score (macro averaged): 0.6959915906806532\n",
            "Accuracy: 0.6882267441860465\n",
            "Confusion Matrix:\n",
            " [[189  20  37  78]\n",
            " [ 27 264   4   2]\n",
            " [ 41   2 264  49]\n",
            " [ 87   9  73 230]]\n",
            "\n",
            "----- linearlr -----\n",
            "Adjusting learning rate of group 0 to 1.3190e-06.\n",
            "Adjusting learning rate of group 0 to 1.6959e-06.\n",
            "Adjusting learning rate of group 0 to 2.0727e-06.\n",
            "Adjusting learning rate of group 0 to 2.4496e-06.\n",
            "Adjusting learning rate of group 0 to 2.8265e-06.\n",
            "Adjusting learning rate of group 0 to 2.8265e-06.\n",
            "Adjusting learning rate of group 0 to 2.8265e-06.\n",
            "Adjusting learning rate of group 0 to 2.8265e-06.\n",
            "Adjusting learning rate of group 0 to 2.8265e-06.\n",
            "Adjusting learning rate of group 0 to 2.8265e-06.\n",
            "Adjusting learning rate of group 0 to 2.8265e-06.\n",
            "Adjusting learning rate of group 0 to 2.8265e-06.\n",
            "Adjusting learning rate of group 0 to 2.8265e-06.\n",
            "Adjusting learning rate of group 0 to 2.8265e-06.\n",
            "Adjusting learning rate of group 0 to 2.8265e-06.\n",
            "Adjusting learning rate of group 0 to 2.8265e-06.\n",
            "Adjusting learning rate of group 0 to 2.8265e-06.\n",
            "Adjusting learning rate of group 0 to 2.8265e-06.\n",
            "Adjusting learning rate of group 0 to 2.8265e-06.\n",
            "Adjusting learning rate of group 0 to 2.8265e-06.\n",
            "Adjusting learning rate of group 0 to 2.8265e-06.\n",
            "Adjusting learning rate of group 0 to 2.8265e-06.\n",
            "Adjusting learning rate of group 0 to 2.8265e-06.\n",
            "Adjusting learning rate of group 0 to 2.8265e-06.\n",
            "Adjusting learning rate of group 0 to 2.8265e-06.\n",
            "Adjusting learning rate of group 0 to 2.8265e-06.\n",
            "Adjusting learning rate of group 0 to 2.8265e-06.\n",
            "Adjusting learning rate of group 0 to 2.8265e-06.\n",
            "Adjusting learning rate of group 0 to 2.8265e-06.\n",
            "Adjusting learning rate of group 0 to 2.8265e-06.\n",
            "\n",
            "----Evaluation:----\n",
            "\n",
            "Mean Loss: 0.7587881614778971\n",
            "F1-Score (macro averaged): 0.6967870717552412\n",
            "Accuracy: 0.6896802325581395\n",
            "Confusion Matrix:\n",
            " [[186  23  36  79]\n",
            " [ 24 268   3   2]\n",
            " [ 42   2 262  50]\n",
            " [ 85   9  72 233]]\n",
            "\n",
            "----- polynomiallr -----\n",
            "Adjusting learning rate of group 0 to 2.2612e-06.\n",
            "Adjusting learning rate of group 0 to 1.6959e-06.\n",
            "Adjusting learning rate of group 0 to 1.1306e-06.\n",
            "Adjusting learning rate of group 0 to 5.6529e-07.\n",
            "Adjusting learning rate of group 0 to 0.0000e+00.\n",
            "Adjusting learning rate of group 0 to 0.0000e+00.\n",
            "Adjusting learning rate of group 0 to 0.0000e+00.\n",
            "Adjusting learning rate of group 0 to 0.0000e+00.\n",
            "Adjusting learning rate of group 0 to 0.0000e+00.\n",
            "Adjusting learning rate of group 0 to 0.0000e+00.\n",
            "Adjusting learning rate of group 0 to 0.0000e+00.\n",
            "Adjusting learning rate of group 0 to 0.0000e+00.\n",
            "Adjusting learning rate of group 0 to 0.0000e+00.\n",
            "Adjusting learning rate of group 0 to 0.0000e+00.\n",
            "Adjusting learning rate of group 0 to 0.0000e+00.\n",
            "Adjusting learning rate of group 0 to 0.0000e+00.\n",
            "Adjusting learning rate of group 0 to 0.0000e+00.\n",
            "Adjusting learning rate of group 0 to 0.0000e+00.\n",
            "Adjusting learning rate of group 0 to 0.0000e+00.\n",
            "Adjusting learning rate of group 0 to 0.0000e+00.\n",
            "Adjusting learning rate of group 0 to 0.0000e+00.\n",
            "Adjusting learning rate of group 0 to 0.0000e+00.\n",
            "Adjusting learning rate of group 0 to 0.0000e+00.\n",
            "Adjusting learning rate of group 0 to 0.0000e+00.\n",
            "Adjusting learning rate of group 0 to 0.0000e+00.\n",
            "Adjusting learning rate of group 0 to 0.0000e+00.\n",
            "Adjusting learning rate of group 0 to 0.0000e+00.\n",
            "Adjusting learning rate of group 0 to 0.0000e+00.\n",
            "Adjusting learning rate of group 0 to 0.0000e+00.\n",
            "Adjusting learning rate of group 0 to 0.0000e+00.\n",
            "\n",
            "----Evaluation:----\n",
            "\n",
            "Mean Loss: 0.7584766450143138\n",
            "F1-Score (macro averaged): 0.698107438024828\n",
            "Accuracy: 0.6911337209302325\n",
            "Confusion Matrix:\n",
            " [[186  23  36  79]\n",
            " [ 24 268   3   2]\n",
            " [ 41   2 263  50]\n",
            " [ 84   9  72 234]]\n"
          ]
        }
      ],
      "source": [
        "kernel = 5\n",
        "padding = 2\n",
        "strides = 1\n",
        "pooling_kernel_size = 2\n",
        "\n",
        "lambdalr = lambda epoch: 0.9 ** epoch\n",
        "\n",
        "model = cnn(num_classes, kernel, padding, strides, pooling=True, pooling_kernel_size=pooling_kernel_size).to(device)\n",
        "\n",
        "optimizer = torch.optim.SGD(model.parameters(), lr=learning_rate)\n",
        "\n",
        "schedulers = [(torch.optim.lr_scheduler.LambdaLR(optimizer, lr_lambda=lambdalr, verbose=True), \"lambdalr\"),\n",
        "              (torch.optim.lr_scheduler.ExponentialLR(optimizer, gamma=0.9, verbose=True), \"exponentiallr\"),\n",
        "              (torch.optim.lr_scheduler.StepLR(optimizer, step_size=5, gamma=0.8, verbose=True), \"steplr\"),\n",
        "              (torch.optim.lr_scheduler.LinearLR(optimizer, verbose=True), \"linearlr\"),\n",
        "              (torch.optim.lr_scheduler.PolynomialLR(optimizer, verbose=True), \"polynomiallr\")]\n",
        "\n",
        "for scheduler, scheduler_name in schedulers:\n",
        "    print(\"\\n-----\", scheduler_name, \"-----\")\n",
        "\n",
        "    model_new = training(num_epochs, optimizer, train_dataloader, criterion, model, device, val_dataloader = val_dataloader, best_name='best_cnn_model', scheduler=scheduler)\n",
        "\n",
        "    model_new = cnn(num_classes, kernel, padding, strides, pooling=True, pooling_kernel_size=pooling_kernel_size)\n",
        "    model_new.load_state_dict(torch.load('best_cnn_model'))\n",
        "    model_new = model_new.to(device)\n",
        "\n",
        "    _, _, _, _, _, _ = evaluation(test_dataloader, criterion, model_new, device, print_output = True)"
      ]
    },
    {
      "cell_type": "markdown",
      "metadata": {
        "id": "6S6ixrYXEnlY"
      },
      "source": [
        "| Learning rate scheduler | Accuracy | F1-Score |\n",
        "|-------------------------|----------|----------|\n",
        "| LambdaLR                | 0.6780   | 0.6877   |\n",
        "| ExponentialLR           | 0.6831   | 0.6922   |\n",
        "| StepLR                  | 0.6882   | 0.6959   |\n",
        "| LinearLR                | 0.6896   | 0.6967   |\n",
        "| PolynomialLR            | 0.6911   | 0.6981   |\n",
        "\n",
        "We can see that:\n",
        "\n",
        "- All schedulers perform almost equally well, but do not improve the performance of the base model.\n",
        "\n",
        "- From the output of the scheduler functions, it is evident that the learning rate is constantly decreasing."
      ]
    },
    {
      "cell_type": "markdown",
      "metadata": {
        "id": "5mzZWtgoEnlY"
      },
      "source": [
        "### Step 4: Batch Normalization\n",
        "\n",
        "We will now add batch normalization 2d layers before every activation function of a convolutional layer, to let the input have the same statistical properties before being fed into a layer or between different epochs."
      ]
    },
    {
      "cell_type": "code",
      "execution_count": null,
      "metadata": {
        "id": "qG46A-ctDdXZ",
        "outputId": "39823f18-bcb4-4dde-deb1-9cdcfd6c1107"
      },
      "outputs": [
        {
          "name": "stdout",
          "output_type": "stream",
          "text": [
            "\n",
            "----Evaluation:----\n",
            "\n",
            "Mean Loss: 0.6122246084594016\n",
            "F1-Score (macro averaged): 0.7704583312890394\n",
            "Accuracy: 0.7696220930232558\n",
            "Confusion Matrix:\n",
            " [[208  16  55  45]\n",
            " [ 15 279   1   2]\n",
            " [ 29   2 317   8]\n",
            " [ 82  22  40 255]]\n"
          ]
        }
      ],
      "source": [
        "kernel = 5\n",
        "padding = 2\n",
        "strides = 1\n",
        "pooling_kernel_size = 2\n",
        "\n",
        "model = cnn(num_classes, kernel, padding, strides, pooling=True, pooling_kernel_size=pooling_kernel_size, batch_norm=True).to(device)\n",
        "\n",
        "optimizer = torch.optim.SGD(model.parameters(), lr=learning_rate)\n",
        "\n",
        "model = training(num_epochs, optimizer, train_dataloader, criterion, model, device, val_dataloader = val_dataloader, best_name='best_cnn_model')\n",
        "\n",
        "model = cnn(num_classes, kernel, padding, strides, pooling=True, pooling_kernel_size=pooling_kernel_size, batch_norm=True)\n",
        "model.load_state_dict(torch.load('best_cnn_model'))\n",
        "model = model.to(device)\n",
        "\n",
        "_, _, _, _, _, _ = evaluation(test_dataloader, criterion, model, device, print_output = True)"
      ]
    },
    {
      "cell_type": "markdown",
      "metadata": {
        "id": "srSVKnYIEnlY"
      },
      "source": [
        "We can see that there is a significant improvement of the F1-Score, from 71.7% to 77%, when using batch normalization."
      ]
    },
    {
      "cell_type": "markdown",
      "metadata": {
        "id": "BVi9Hwu9EnlY"
      },
      "source": [
        "### Step 5: Regularization\n",
        "\n",
        "(i) We will now try to reduce the difference between training and validation loss, using different weight decay values in the optimizer. We are going to evaluate the results on the validation dataset, so that we can then choose the best weight decay value and combine it with the appropriate dropout to perform the evaluation on the test set."
      ]
    },
    {
      "cell_type": "code",
      "execution_count": null,
      "metadata": {
        "id": "dNwCpRm9DdXZ",
        "outputId": "51192cbe-fb09-4305-cf5b-d84e56be848b"
      },
      "outputs": [
        {
          "name": "stdout",
          "output_type": "stream",
          "text": [
            "\n",
            "---- weight decay = 0.001 ----\n",
            "\n",
            "----Evaluation:----\n",
            "\n",
            "Mean Loss: 0.5233419981598854\n",
            "F1-Score (macro averaged): 0.7975765037690191\n",
            "Accuracy: 0.79875\n",
            "Confusion Matrix:\n",
            " [[132  19  19  30]\n",
            " [ 13 182   0   5]\n",
            " [ 20   0 166  14]\n",
            " [ 23   8  10 159]]\n",
            "\n",
            "---- weight decay = 0.0001 ----\n",
            "\n",
            "----Evaluation:----\n",
            "\n",
            "Mean Loss: 0.5481264179944992\n",
            "F1-Score (macro averaged): 0.8074092791797903\n",
            "Accuracy: 0.80625\n",
            "Confusion Matrix:\n",
            " [[152  15  22  11]\n",
            " [ 18 180   0   2]\n",
            " [ 21   0 172   7]\n",
            " [ 40   5  14 141]]\n",
            "\n",
            "---- weight decay = 1e-05 ----\n",
            "\n",
            "----Evaluation:----\n",
            "\n",
            "Mean Loss: 0.7679793711006642\n",
            "F1-Score (macro averaged): 0.7960496389500074\n",
            "Accuracy: 0.795\n",
            "Confusion Matrix:\n",
            " [[137  13  22  28]\n",
            " [ 17 178   0   5]\n",
            " [ 27   0 163  10]\n",
            " [ 28   6   8 158]]\n",
            "\n",
            "---- weight decay = 1e-06 ----\n",
            "\n",
            "----Evaluation:----\n",
            "\n",
            "Mean Loss: 0.7631309822201728\n",
            "F1-Score (macro averaged): 0.7961075669093916\n",
            "Accuracy: 0.79875\n",
            "Confusion Matrix:\n",
            " [[124  18  23  35]\n",
            " [ 10 187   0   3]\n",
            " [ 22   0 166  12]\n",
            " [ 22   7   9 162]]\n"
          ]
        }
      ],
      "source": [
        "kernel = 5\n",
        "padding = 2\n",
        "strides = 1\n",
        "pooling_kernel_size = 2\n",
        "\n",
        "model = cnn(num_classes, kernel, padding, strides, pooling=True, pooling_kernel_size=pooling_kernel_size, batch_norm=True).to(device)\n",
        "\n",
        "for weight_decay in [0.001, 0.0001, 0.00001, 0.000001]:\n",
        "\n",
        "    print(\"\\n---- weight decay =\", weight_decay, \"----\")\n",
        "\n",
        "    optimizer = torch.optim.SGD(model.parameters(), lr=learning_rate, weight_decay=weight_decay)\n",
        "\n",
        "    model = training(num_epochs, optimizer, train_dataloader, criterion, model, device, val_dataloader = val_dataloader, best_name='best_cnn_model')\n",
        "\n",
        "    model = cnn(num_classes, kernel, padding, strides, pooling=True, pooling_kernel_size=pooling_kernel_size, batch_norm=True)\n",
        "    model.load_state_dict(torch.load('best_cnn_model'))\n",
        "    model = model.to(device)\n",
        "\n",
        "    _, _, _, _, _, _ = evaluation(val_dataloader, criterion, model, device, print_output = True)"
      ]
    },
    {
      "cell_type": "markdown",
      "metadata": {
        "id": "fb52rqfaEnlZ"
      },
      "source": [
        "(ii) We will also try to reduce the difference between training and validation loss, using dropout in the linear layers. We are going to evaluate the results on the validation dataset, so that we can then choose the best weight decay value and combine it with the appropriate dropout to perform the evaluation on the test set."
      ]
    },
    {
      "cell_type": "code",
      "execution_count": null,
      "metadata": {
        "id": "-4W5ORfjDdXZ",
        "outputId": "f83d3563-bdff-47dc-b6e9-f16a8b73fd8c"
      },
      "outputs": [
        {
          "name": "stdout",
          "output_type": "stream",
          "text": [
            "\n",
            "---- dropout = 0.4 ----\n",
            "\n",
            "----Evaluation:----\n",
            "\n",
            "Mean Loss: 0.5544826883077622\n",
            "F1-Score (macro averaged): 0.8027170900367777\n",
            "Accuracy: 0.8025\n",
            "Confusion Matrix:\n",
            " [[143  19  20  18]\n",
            " [  9 189   0   2]\n",
            " [ 28   1 164   7]\n",
            " [ 39   6   9 146]]\n",
            "\n",
            "---- dropout = 0.5 ----\n",
            "\n",
            "----Evaluation:----\n",
            "\n",
            "Mean Loss: 0.5907908129692078\n",
            "F1-Score (macro averaged): 0.7966792067704459\n",
            "Accuracy: 0.7975\n",
            "Confusion Matrix:\n",
            " [[137  21  21  21]\n",
            " [  8 191   0   1]\n",
            " [ 33   3 156   8]\n",
            " [ 29   7  10 154]]\n",
            "\n",
            "---- dropout = 0.6 ----\n",
            "\n",
            "----Evaluation:----\n",
            "\n",
            "Mean Loss: 0.5419619852304458\n",
            "F1-Score (macro averaged): 0.8034271994372678\n",
            "Accuracy: 0.805\n",
            "Confusion Matrix:\n",
            " [[126  10  30  34]\n",
            " [ 13 180   0   7]\n",
            " [ 16   0 175   9]\n",
            " [ 23   2  12 163]]\n"
          ]
        }
      ],
      "source": [
        "kernel = 5\n",
        "padding = 2\n",
        "strides = 1\n",
        "pooling_kernel_size = 2\n",
        "\n",
        "for dropout in [0.4, 0.5, 0.6]:\n",
        "\n",
        "    print(\"\\n---- dropout =\", dropout, \"----\")\n",
        "\n",
        "    model = cnn(num_classes, kernel, padding, strides, pooling=True, pooling_kernel_size=pooling_kernel_size, batch_norm=True, dropout=dropout).to(device)\n",
        "\n",
        "    optimizer = torch.optim.SGD(model.parameters(), lr=learning_rate)\n",
        "\n",
        "    model = training(num_epochs, optimizer, train_dataloader, criterion, model, device, val_dataloader = val_dataloader, best_name='best_cnn_model')\n",
        "\n",
        "    model = cnn(num_classes, kernel, padding, strides, pooling=True, pooling_kernel_size=pooling_kernel_size, batch_norm=True, dropout=dropout)\n",
        "    model.load_state_dict(torch.load('best_cnn_model'))\n",
        "    model = model.to(device)\n",
        "\n",
        "    _, _, _, _, _, _ = evaluation(val_dataloader, criterion, model, device, print_output = True)"
      ]
    },
    {
      "cell_type": "markdown",
      "metadata": {
        "id": "XXig4-B1EnlZ"
      },
      "source": [
        "We will now try the best values that we found on the validation dataset for weight decay (0.0001) and dropout (0.6), separately and together, and evaluate the results on the testing dataset."
      ]
    },
    {
      "cell_type": "code",
      "execution_count": null,
      "metadata": {
        "id": "zA7es9rnDdXZ",
        "outputId": "71a1978e-5233-4c22-8a7b-71eebbb72d9c"
      },
      "outputs": [
        {
          "name": "stdout",
          "output_type": "stream",
          "text": [
            "\n",
            "-------\n",
            "weight decay = 0.0001 \n",
            "dropout = None \n",
            "-------\n",
            "\n",
            "----Evaluation:----\n",
            "\n",
            "Mean Loss: 0.6673206988245596\n",
            "F1-Score (macro averaged): 0.7682939813740196\n",
            "Accuracy: 0.7688953488372093\n",
            "Confusion Matrix:\n",
            " [[204  26  61  33]\n",
            " [  5 290   0   2]\n",
            " [ 29   4 312  11]\n",
            " [ 92  23  32 252]]\n",
            "\n",
            "-------\n",
            "weight decay = 0 \n",
            "dropout = 0.6 \n",
            "-------\n",
            "\n",
            "----Evaluation:----\n",
            "\n",
            "Mean Loss: 0.8887153432143922\n",
            "F1-Score (macro averaged): 0.7532098178162132\n",
            "Accuracy: 0.751453488372093\n",
            "Confusion Matrix:\n",
            " [[206  16  51  51]\n",
            " [ 14 281   2   0]\n",
            " [ 30   2 315   9]\n",
            " [106  21  40 232]]\n",
            "\n",
            "-------\n",
            "weight decay = 0.0001 \n",
            "dropout = 0.6 \n",
            "-------\n",
            "\n",
            "----Evaluation:----\n",
            "\n",
            "Mean Loss: 0.5921286217283545\n",
            "F1-Score (macro averaged): 0.7723823506885346\n",
            "Accuracy: 0.7710755813953488\n",
            "Confusion Matrix:\n",
            " [[193  17  51  63]\n",
            " [ 12 284   0   1]\n",
            " [ 42   2 304   8]\n",
            " [ 72  11  36 280]]\n"
          ]
        }
      ],
      "source": [
        "num_epochs = 60\n",
        "\n",
        "kernel = 5\n",
        "padding = 2\n",
        "strides = 1\n",
        "pooling_kernel_size = 2\n",
        "\n",
        "for weight_decay, dropout in [(0.0001, None), (0, 0.6), (0.0001, 0.6)]:\n",
        "\n",
        "    print(\"\\n-------\\nweight decay =\", weight_decay, \"\\ndropout =\", dropout, \"\\n-------\")\n",
        "\n",
        "    model = cnn(num_classes, kernel, padding, strides, pooling=True, pooling_kernel_size=pooling_kernel_size, batch_norm=True, dropout=dropout).to(device)\n",
        "\n",
        "    optimizer = torch.optim.SGD(model.parameters(), lr=learning_rate, weight_decay=weight_decay)\n",
        "\n",
        "    model = training(num_epochs, optimizer, train_dataloader, criterion, model, device, val_dataloader = val_dataloader, best_name='best_cnn_model')\n",
        "\n",
        "    model = cnn(num_classes, kernel, padding, strides, pooling=True, pooling_kernel_size=pooling_kernel_size, batch_norm=True, dropout=dropout)\n",
        "    model.load_state_dict(torch.load('best_cnn_model'))\n",
        "    model = model.to(device)\n",
        "\n",
        "    _, _, _, _, _, _ = evaluation(test_dataloader, criterion, model, device, print_output = True)"
      ]
    },
    {
      "cell_type": "markdown",
      "metadata": {
        "id": "NzETs8kIEnlZ"
      },
      "source": [
        "We can see that when using both weight decay = 0.0001 and dropout = 0.6, we achieve an F1-score = 77.2%."
      ]
    },
    {
      "cell_type": "markdown",
      "metadata": {
        "id": "-JeU07CREnlZ"
      },
      "source": [
        "### Step 6: Training Efficiency"
      ]
    },
    {
      "cell_type": "markdown",
      "metadata": {
        "id": "NMxFnRDMEnlZ"
      },
      "source": [
        "#### Batch Size\n",
        "\n",
        "We will try different values of batch size and compare the results and the execution time for each of those values."
      ]
    },
    {
      "cell_type": "code",
      "execution_count": null,
      "metadata": {
        "id": "2FIHcKbXDdXZ",
        "outputId": "53277364-4161-418a-b6a3-1cae37c9ec8a"
      },
      "outputs": [
        {
          "name": "stdout",
          "output_type": "stream",
          "text": [
            "\n",
            "---- batch size = 2 ----\n",
            "\n",
            "----Evaluation:----\n",
            "\n",
            "Mean Loss: 1.3649373613242373\n",
            "F1-Score (macro averaged): 0.7264989110334692\n",
            "Accuracy: 0.717296511627907\n",
            "Confusion Matrix:\n",
            " [[204  16  23  81]\n",
            " [ 31 256   3   7]\n",
            " [ 48   3 281  24]\n",
            " [113  14  26 246]]\n",
            "\n",
            "Time: 319.47007608413696\n",
            "\n",
            "---- batch size = 4 ----\n",
            "\n",
            "----Evaluation:----\n",
            "\n",
            "Mean Loss: 1.119427055692129\n",
            "F1-Score (macro averaged): 0.7674940822215854\n",
            "Accuracy: 0.7630813953488372\n",
            "Confusion Matrix:\n",
            " [[202  13  29  80]\n",
            " [ 14 274   2   7]\n",
            " [ 26   5 298  27]\n",
            " [ 82  11  30 276]]\n",
            "\n",
            "Time: 171.26928281784058\n",
            "\n",
            "---- batch size = 8 ----\n",
            "\n",
            "----Evaluation:----\n",
            "\n",
            "Mean Loss: 0.8043194281995797\n",
            "F1-Score (macro averaged): 0.7764300374962707\n",
            "Accuracy: 0.7776162790697675\n",
            "Confusion Matrix:\n",
            " [[184  16  42  82]\n",
            " [  2 289   1   5]\n",
            " [ 23   6 304  23]\n",
            " [ 57  19  30 293]]\n",
            "\n",
            "Time: 100.95861983299255\n",
            "\n",
            "---- batch size = 16 ----\n",
            "\n",
            "----Evaluation:----\n",
            "\n",
            "Mean Loss: 0.7368326032057751\n",
            "F1-Score (macro averaged): 0.7663369283193681\n",
            "Accuracy: 0.7609011627906976\n",
            "Confusion Matrix:\n",
            " [[250   5  37  32]\n",
            " [ 26 266   4   1]\n",
            " [ 41   3 297  15]\n",
            " [107  25  33 234]]\n",
            "\n",
            "Time: 58.21592307090759\n",
            "\n",
            "---- batch size = 32 ----\n",
            "\n",
            "----Evaluation:----\n",
            "\n",
            "Mean Loss: 0.6186389867216349\n",
            "F1-Score (macro averaged): 0.7873281438471003\n",
            "Accuracy: 0.7848837209302325\n",
            "Confusion Matrix:\n",
            " [[215  15  35  59]\n",
            " [ 13 279   1   4]\n",
            " [ 37   2 295  22]\n",
            " [ 60  19  29 291]]\n",
            "\n",
            "Time: 30.728839874267578\n",
            "\n",
            "---- batch size = 64 ----\n",
            "\n",
            "----Evaluation:----\n",
            "\n",
            "Mean Loss: 0.6757089563391425\n",
            "F1-Score (macro averaged): 0.7410368144905645\n",
            "Accuracy: 0.7361918604651163\n",
            "Confusion Matrix:\n",
            " [[202  10  56  56]\n",
            " [ 27 263   4   3]\n",
            " [ 51   2 288  15]\n",
            " [ 88  23  28 260]]\n",
            "\n",
            "Time: 16.586685180664062\n",
            "\n",
            "---- batch size = 128 ----\n",
            "\n",
            "----Evaluation:----\n",
            "\n",
            "Mean Loss: 0.637558330189098\n",
            "F1-Score (macro averaged): 0.7587703535802597\n",
            "Accuracy: 0.7543604651162791\n",
            "Confusion Matrix:\n",
            " [[200  13  54  57]\n",
            " [ 16 278   1   2]\n",
            " [ 46   2 295  13]\n",
            " [ 93  13  28 265]]\n",
            "\n",
            "Time: 13.772270917892456\n"
          ]
        }
      ],
      "source": [
        "num_epochs = 30\n",
        "\n",
        "kernel = 5\n",
        "padding = 2\n",
        "strides = 1\n",
        "pooling_kernel_size = 2\n",
        "\n",
        "for power in range(1, 1+7):\n",
        "\n",
        "    batch_size = 2**power\n",
        "\n",
        "    print(\"\\n---- batch size =\", batch_size, \"----\")\n",
        "\n",
        "    train_dataloader_for_testing = DataLoader(dataset = train_dataset, batch_size = batch_size, shuffle = True)\n",
        "    val_dataloader_for_testing = DataLoader(dataset = val_dataset, batch_size = batch_size, shuffle = True)\n",
        "    test_dataloader_for_testing = DataLoader(dataset = test_dataset, batch_size = batch_size)\n",
        "\n",
        "    model = cnn(num_classes, kernel, padding, strides, pooling=True, pooling_kernel_size=pooling_kernel_size, batch_norm=True).to(device)\n",
        "\n",
        "    optimizer = torch.optim.SGD(model.parameters(), lr=learning_rate)\n",
        "\n",
        "    start = time.time()\n",
        "    model = training(num_epochs, optimizer, train_dataloader_for_testing, criterion, model, device, val_dataloader_for_testing, best_name='best_cnn_model')\n",
        "    end = time.time()\n",
        "\n",
        "    model = cnn(num_classes, kernel, padding, strides, pooling=True, pooling_kernel_size=pooling_kernel_size, batch_norm=True)\n",
        "    model.load_state_dict(torch.load('best_cnn_model'))\n",
        "    model = model.to(device)\n",
        "\n",
        "    _, _, _, _, _, _ = evaluation(test_dataloader_for_testing, criterion, model, device, print_output = True)\n",
        "\n",
        "    print(\"\\nTime:\", end - start)"
      ]
    },
    {
      "cell_type": "markdown",
      "metadata": {
        "id": "Cobe_x_mEnlZ"
      },
      "source": [
        "We can see that very small and very larg batch sizes, e.g. 2 and 128 result in worse performance. This is due to the very small/large number of samples used to train the model, that can result in either overfitting or underfitting. Thus, a value close to the median, such as 16 or 32 results in imrpoved performance.\n",
        "\n",
        "However, larger batch sizes also result in smaller training times, as less iterations are being done through the entire dataset."
      ]
    },
    {
      "cell_type": "code",
      "execution_count": null,
      "metadata": {
        "id": "lxRoYtVCDdXZ",
        "outputId": "3acd16c4-6a26-4d40-f58e-77b313cbc1e4"
      },
      "outputs": [
        {
          "name": "stdout",
          "output_type": "stream",
          "text": [
            "\n",
            "---- early stopping = 3 ----\n",
            "\n",
            "----Evaluation:----\n",
            "\n",
            "Mean Loss: 0.6525998740716902\n",
            "F1-Score (macro averaged): 0.7703079565347442\n",
            "Accuracy: 0.7645348837209303\n",
            "Confusion Matrix:\n",
            " [[255  16  32  21]\n",
            " [ 22 275   0   0]\n",
            " [ 54   1 293   8]\n",
            " [119  23  28 229]]\n",
            "\n",
            "Time: 19.762622117996216\n",
            "\n",
            "---- early stopping = 7 ----\n",
            "\n",
            "----Evaluation:----\n",
            "\n",
            "Mean Loss: 0.5916111944974292\n",
            "F1-Score (macro averaged): 0.7939893115909995\n",
            "Accuracy: 0.7863372093023255\n",
            "Confusion Matrix:\n",
            " [[255  16  16  37]\n",
            " [ 15 281   0   1]\n",
            " [ 59   3 282  12]\n",
            " [104   9  22 264]]\n",
            "\n",
            "Time: 57.467527866363525\n",
            "\n",
            "---- early stopping = 10 ----\n",
            "\n",
            "----Evaluation:----\n",
            "\n",
            "Mean Loss: 0.6031697693627415\n",
            "F1-Score (macro averaged): 0.7929060644515298\n",
            "Accuracy: 0.7856104651162791\n",
            "Confusion Matrix:\n",
            " [[262  10  16  36]\n",
            " [ 17 277   0   3]\n",
            " [ 57   4 279  16]\n",
            " [100  17  19 263]]\n",
            "\n",
            "Time: 58.114108085632324\n"
          ]
        }
      ],
      "source": [
        "num_epochs = 30\n",
        "\n",
        "kernel = 5\n",
        "padding = 2\n",
        "strides = 1\n",
        "pooling_kernel_size = 2\n",
        "\n",
        "for early_stopping in [3, 7, 10]:\n",
        "\n",
        "    print(\"\\n---- early stopping =\", early_stopping, \"----\")\n",
        "\n",
        "    model = cnn(num_classes, kernel, padding, strides, pooling=True, pooling_kernel_size=pooling_kernel_size, batch_norm=True).to(device)\n",
        "\n",
        "    optimizer = torch.optim.SGD(model.parameters(), lr=learning_rate)\n",
        "\n",
        "    start = time.time()\n",
        "    model = training(num_epochs, optimizer, train_dataloader, criterion, model, device, val_dataloader, best_name='best_cnn_model', early_stopping=early_stopping)\n",
        "    end = time.time()\n",
        "\n",
        "    model = cnn(num_classes, kernel, padding, strides, pooling=True, pooling_kernel_size=pooling_kernel_size, batch_norm=True)\n",
        "    model.load_state_dict(torch.load('best_cnn_model'))\n",
        "    model = model.to(device)\n",
        "\n",
        "    _, _, _, _, _, _ = evaluation(test_dataloader, criterion, model, device, print_output = True)\n",
        "    print(\"\\nTime:\", end - start)"
      ]
    },
    {
      "cell_type": "markdown",
      "metadata": {
        "id": "pnWNHOu3Enla"
      },
      "source": [
        "Early stopping allows our model to be trained faster, since the training is stopped when no performance imrpovement has been seen for a certain number of epochs. Small values for early stopping may lead to a wrong, premature stopping, before the training has reached a good state. However, larger values for early stopping result to larger training times, so the trade-off should be examined accordingly. 7 consecutive epochs with no performance improvement seem to be a good value for early stopping for this problem."
      ]
    },
    {
      "cell_type": "markdown",
      "metadata": {
        "id": "isvbmantDdXa"
      },
      "source": [
        "# Exercise 4: Testing"
      ]
    },
    {
      "cell_type": "markdown",
      "metadata": {
        "id": "EdK92VOIDdXd"
      },
      "source": [
        "### Step 1: Inference\n",
        "\n",
        "The evaluation function defined during exercise 1 will be used for this step too."
      ]
    },
    {
      "cell_type": "markdown",
      "metadata": {
        "id": "jeAXKzpbDdXd"
      },
      "source": [
        "### Step 2: Downloading music"
      ]
    },
    {
      "cell_type": "code",
      "execution_count": null,
      "metadata": {
        "colab": {
          "base_uri": "https://localhost:8080/"
        },
        "id": "HZXNhLO8Dhop",
        "outputId": "793762b1-1d70-459c-c855-8612aee35457"
      },
      "outputs": [
        {
          "name": "stdout",
          "output_type": "stream",
          "text": [
            "\r0% [Working]\r            \rGet:1 https://cloud.r-project.org/bin/linux/ubuntu focal-cran40/ InRelease [3,622 B]\n",
            "Get:2 https://developer.download.nvidia.com/compute/cuda/repos/ubuntu2004/x86_64  InRelease [1,581 B]\n",
            "Get:3 https://cloud.r-project.org/bin/linux/ubuntu focal-cran40/ Packages [81.0 kB]\n",
            "Get:4 https://developer.download.nvidia.com/compute/cuda/repos/ubuntu2004/x86_64  Packages [1,079 kB]\n",
            "Get:5 http://ppa.launchpad.net/c2d4u.team/c2d4u4.0+/ubuntu focal InRelease [18.1 kB]\n",
            "Hit:6 http://archive.ubuntu.com/ubuntu focal InRelease\n",
            "Get:7 http://security.ubuntu.com/ubuntu focal-security InRelease [114 kB]\n",
            "Get:8 http://archive.ubuntu.com/ubuntu focal-updates InRelease [114 kB]\n",
            "Hit:9 http://ppa.launchpad.net/cran/libgit2/ubuntu focal InRelease\n",
            "Hit:10 http://ppa.launchpad.net/deadsnakes/ppa/ubuntu focal InRelease\n",
            "Get:11 http://archive.ubuntu.com/ubuntu focal-backports InRelease [108 kB]\n",
            "Get:12 http://ppa.launchpad.net/graphics-drivers/ppa/ubuntu focal InRelease [24.3 kB]\n",
            "Get:13 http://archive.ubuntu.com/ubuntu focal-updates/restricted amd64 Packages [2,636 kB]\n",
            "Hit:14 http://ppa.launchpad.net/ubuntugis/ppa/ubuntu focal InRelease\n",
            "Get:15 http://ppa.launchpad.net/c2d4u.team/c2d4u4.0+/ubuntu focal/main Sources [2,604 kB]\n",
            "Get:16 http://archive.ubuntu.com/ubuntu focal-updates/multiverse amd64 Packages [39.5 kB]\n",
            "Get:17 http://ppa.launchpad.net/c2d4u.team/c2d4u4.0+/ubuntu focal/main amd64 Packages [1,228 kB]\n",
            "Get:18 http://ppa.launchpad.net/graphics-drivers/ppa/ubuntu focal/main amd64 Packages [44.1 kB]\n",
            "Fetched 8,096 kB in 6s (1,336 kB/s)\n",
            "Reading package lists... Done\n",
            "  % Total    % Received % Xferd  Average Speed   Time    Time     Time  Current\n",
            "                                 Dload  Upload   Total   Spent    Left  Speed\n",
            "100     3  100     3    0     0      1      0  0:00:03  0:00:01  0:00:02     1\n",
            "100     3  100     3    0     0      1      0  0:00:03  0:00:01  0:00:02     1\n",
            "  0     0    0     0    0     0      0      0 --:--:--  0:00:02 --:--:--     0\n",
            "100 1794k  100 1794k    0     0   747k      0  0:00:02  0:00:02 --:--:--  747k\n",
            "Collecting yt-dlp\n",
            "  Downloading yt_dlp-2023.6.22-py2.py3-none-any.whl (3.0 MB)\n",
            "\u001b[2K     \u001b[90m━━━━━━━━━━━━━━━━━━━━━━━━━━━━━━━━━━━━━━━━\u001b[0m \u001b[32m3.0/3.0 MB\u001b[0m \u001b[31m83.2 MB/s\u001b[0m eta \u001b[36m0:00:00\u001b[0m\n",
            "\u001b[?25hCollecting mutagen (from yt-dlp)\n",
            "  Downloading mutagen-1.46.0-py3-none-any.whl (193 kB)\n",
            "\u001b[2K     \u001b[90m━━━━━━━━━━━━━━━━━━━━━━━━━━━━━━━━━━━━━━\u001b[0m \u001b[32m193.6/193.6 kB\u001b[0m \u001b[31m26.3 MB/s\u001b[0m eta \u001b[36m0:00:00\u001b[0m\n",
            "\u001b[?25hCollecting pycryptodomex (from yt-dlp)\n",
            "  Downloading pycryptodomex-3.18.0-cp35-abi3-manylinux_2_17_x86_64.manylinux2014_x86_64.whl (2.1 MB)\n",
            "\u001b[2K     \u001b[90m━━━━━━━━━━━━━━━━━━━━━━━━━━━━━━━━━━━━━━━━\u001b[0m \u001b[32m2.1/2.1 MB\u001b[0m \u001b[31m95.4 MB/s\u001b[0m eta \u001b[36m0:00:00\u001b[0m\n",
            "\u001b[?25hCollecting websockets (from yt-dlp)\n",
            "  Downloading websockets-11.0.3-cp310-cp310-manylinux_2_5_x86_64.manylinux1_x86_64.manylinux_2_17_x86_64.manylinux2014_x86_64.whl (129 kB)\n",
            "\u001b[2K     \u001b[90m━━━━━━━━━━━━━━━━━━━━━━━━━━━━━━━━━━━━━━\u001b[0m \u001b[32m129.9/129.9 kB\u001b[0m \u001b[31m18.8 MB/s\u001b[0m eta \u001b[36m0:00:00\u001b[0m\n",
            "\u001b[?25hRequirement already satisfied: certifi in /usr/local/lib/python3.10/dist-packages (from yt-dlp) (2023.5.7)\n",
            "Collecting brotli (from yt-dlp)\n",
            "  Downloading Brotli-1.0.9-cp310-cp310-manylinux_2_5_x86_64.manylinux1_x86_64.manylinux_2_12_x86_64.manylinux2010_x86_64.whl (2.7 MB)\n",
            "\u001b[2K     \u001b[90m━━━━━━━━━━━━━━━━━━━━━━━━━━━━━━━━━━━━━━━━\u001b[0m \u001b[32m2.7/2.7 MB\u001b[0m \u001b[31m105.8 MB/s\u001b[0m eta \u001b[36m0:00:00\u001b[0m\n",
            "\u001b[?25hInstalling collected packages: brotli, websockets, pycryptodomex, mutagen, yt-dlp\n",
            "Successfully installed brotli-1.0.9 mutagen-1.46.0 pycryptodomex-3.18.0 websockets-11.0.3 yt-dlp-2023.6.22\n"
          ]
        }
      ],
      "source": [
        "!sudo apt-get update\n",
        "!sudo curl -L https://yt-dl.org/downloads/latest/youtube-dl -o /usr/local/bin/youtube-dl\n",
        "!sudo chmod a+rx /usr/local/bin/youtube-dl\n",
        "!python3 -m pip install -U yt-dlp #youtube-dl has not been updated for some years and\n",
        "                                  #does not work anymore, so we use an alternative"
      ]
    },
    {
      "cell_type": "markdown",
      "metadata": {
        "id": "5BxkuiQeEnla"
      },
      "source": [
        "Functions from `youtube.py` to download the music of a youtube video."
      ]
    },
    {
      "cell_type": "code",
      "execution_count": null,
      "metadata": {
        "id": "YNFtD0B2EUAR"
      },
      "outputs": [],
      "source": [
        "window_length = (50 * 1e-3)\n",
        "hop_length = (50 * 1e-3)\n",
        "mel_time_size = 21\n",
        "\n",
        "\n",
        "def download_youtube(url):\n",
        "    # command = f'youtube-dl --extract-audio --audio-format wav --output temp.wav --postprocessor-args \"-ar 8000\" ' + url + \" --quiet\"\n",
        "    command = f'yt-dlp -x --audio-format wav --audio-quality 0 --output temp.wav --postprocessor-args \"-ar 8000 -ac 1\" ' + url + \" --quiet\"\n",
        "    os.system(command)\n",
        "\n",
        "\n",
        "def load_wav(filename):\n",
        "    \"\"\"Rea audio file and return audio signal and sampling frequency\"\"\"\n",
        "    if not os.path.exists(filename):\n",
        "        raise FileNotFoundError\n",
        "    # Load file using librosa\n",
        "    x, fs = librosa.load(filename, sr=None)\n",
        "    return x, fs\n",
        "\n",
        "\n",
        "def melspectrogram(x=None, fs=None, n_fft=None, hop_length=None,\n",
        "                   fuse=False):\n",
        "    \"\"\"Returns a mel spectrogram.\"\"\"\n",
        "\n",
        "    if x is None:\n",
        "        return None\n",
        "    # Set some values\n",
        "    if n_fft is None:\n",
        "        n_fft = int(window_length * fs)\n",
        "    if hop_length is None:\n",
        "        hop_length = int(hop_length * fs)\n",
        "    # Get spectrogram\n",
        "    spectrogram = librosa.feature.melspectrogram(y=x, sr=fs, n_fft=n_fft,\n",
        "                                                 hop_length=hop_length)\n",
        "    # Convert to MEL-Scale\n",
        "    spectrogram_dB = librosa.power_to_db(spectrogram, ref=np.max)  # (n_mel,t)\n",
        "\n",
        "    if fuse:\n",
        "        chroma = librosa.feature.chroma_stft(y=x, sr=fs, n_fft=n_fft,\n",
        "                                             hop_length=hop_length)\n",
        "        chroma_dB = librosa.power_to_db(chroma)\n",
        "        out = np.concatenate((spectrogram_dB.T, chroma_dB.T), axis=1)\n",
        "    else:\n",
        "        # Transpose to return (time,n_mel)\n",
        "        out = spectrogram_dB.T\n",
        "    return out\n",
        "\n",
        "\n",
        "def get_melgrams(file):\n",
        "    signal, fs = load_wav(file)\n",
        "\n",
        "    segment_length = int((mel_time_size - 1) * window_length * fs)\n",
        "    sequence_length = signal.shape[0]\n",
        "    progress = 0\n",
        "    segments = []\n",
        "    while progress < sequence_length:\n",
        "        if progress + segment_length > sequence_length:\n",
        "            fill_data = sequence_length - progress\n",
        "            empty_data = segment_length - fill_data\n",
        "            feature = melspectrogram(\n",
        "                np.pad(signal[progress:], (0, empty_data), 'constant'),\n",
        "                fs=fs, n_fft=int(window_length * fs), hop_length=int(hop_length * fs))\n",
        "            segments.append(feature)\n",
        "        else:\n",
        "            feature = melspectrogram(\n",
        "                signal[progress:progress + segment_length],\n",
        "                fs=fs, n_fft=int(window_length * fs), hop_length=int(hop_length * fs))\n",
        "\n",
        "            segments.append(feature)\n",
        "        progress += segment_length\n",
        "\n",
        "    return segments\n",
        "\n",
        "\n",
        "def youtube_to_melgram(url, name, kind):\n",
        "    download_youtube(url)\n",
        "    melgrams = get_melgrams(\"temp.wav\")\n",
        "    np.save(kind+\"_\"+name+\"_melgrams.npy\", melgrams)\n",
        "    os.remove(\"temp.wav\")\n"
      ]
    },
    {
      "cell_type": "markdown",
      "metadata": {
        "id": "iTFjIzICEnla"
      },
      "source": [
        "Construct a list of youtube videos and download their music."
      ]
    },
    {
      "cell_type": "code",
      "execution_count": null,
      "metadata": {
        "id": "vHZu0qxaEbqq"
      },
      "outputs": [],
      "source": [
        "blues_urls = {\n",
        "    \"BBKing_HowBlueCanYouGet\":\"https://www.youtube.com/watch?v=l45f28PzfCI\",\n",
        "    \"BBKing_TheThrillIsGone\": \"https://www.youtube.com/watch?v=kpC69qIe02E\",\n",
        "    \"HowlinWolf_Evil\":\"https://www.youtube.com/watch?v=osnDVXlhxPw\",\n",
        "}\n",
        "\n",
        "classical_urls = {\n",
        "    \"Chopin_Nocturne9\":\"https://www.youtube.com/watch?v=9E6b3swbnWg\",\n",
        "    \"Vivaldi_TheFourSeasonsWinter\":\"https://www.youtube.com/watch?v=TZCfydWF48c\",\n",
        "    \"Mozart_EineKleineNachtmusik\":\"https://www.youtube.com/watch?v=oy2zDJPIgwc\",\n",
        "}\n",
        "\n",
        "hiphop_urls = {\n",
        "    \"Madonna_HungUp\":\"https://www.youtube.com/watch?v=EDwb9jOVRtU\",\n",
        "    \"Eminem_LoseYourself\":\"https://www.youtube.com/watch?v=x0c_5zNu8pk\",\n",
        "    \"NickiMinaj_Anaconda\":\"https://www.youtube.com/watch?v=2ArN3HfSebw\",\n",
        "}\n",
        "\n",
        "rock_urls = {\n",
        "    \"Placebo_EveryYouEveryMe\" : \"https://www.youtube.com/watch?v=OMaycNcPsHI\",\n",
        "    \"GunsNRoses_SweetChildOMine\":\"https://www.youtube.com/watch?v=1w7OgIMMRc4\",\n",
        "    \"PinkFloyd_ComfortablyNumb\":\"https://www.youtube.com/watch?v=_FrOQC-zEog\",\n",
        "}\n",
        "\n",
        "for key in blues_urls:\n",
        "    youtube_to_melgram(blues_urls[key], key, \"blues\")\n",
        "\n",
        "for key in classical_urls:\n",
        "    youtube_to_melgram(classical_urls[key], key, \"classical\")\n",
        "\n",
        "for key in hiphop_urls:\n",
        "    youtube_to_melgram(hiphop_urls[key], key, \"hiphop\")\n",
        "\n",
        "for key in rock_urls:\n",
        "    youtube_to_melgram(rock_urls[key], key, \"rock\")"
      ]
    },
    {
      "cell_type": "markdown",
      "metadata": {
        "id": "UtbrSlnLEnlb"
      },
      "source": [
        "### Step 3: Predictions\n",
        "\n",
        "Train a model using the best features found during exercises 2 and 3, evaluate it on the testing dataset and then use it on the downloaded music from youtube."
      ]
    },
    {
      "cell_type": "code",
      "execution_count": null,
      "metadata": {
        "colab": {
          "base_uri": "https://localhost:8080/"
        },
        "id": "9f-KtQ0dJeIf",
        "outputId": "64055315-96b9-4d66-d3af-7bc7c192d469"
      },
      "outputs": [
        {
          "name": "stdout",
          "output_type": "stream",
          "text": [
            "\n",
            "----Evaluation:----\n",
            "\n",
            "Mean Loss: 0.6098438262246376\n",
            "F1-Score (macro averaged): 0.762883060345894\n",
            "Accuracy: 0.7572674418604651\n",
            "Confusion Matrix:\n",
            " [[212  13  41  58]\n",
            " [ 28 268   0   1]\n",
            " [ 45   2 295  14]\n",
            " [ 92  14  26 267]]\n"
          ]
        }
      ],
      "source": [
        "device = \"mps\" if getattr(torch,'has_mps',False) \\\n",
        "    else \"cuda\" if torch.cuda.is_available() else \"cpu\"\n",
        "\n",
        "torch_seed()\n",
        "\n",
        "train_dataloader = DataLoader(dataset = train_dataset, batch_size=32, shuffle = True)\n",
        "val_dataloader = DataLoader(dataset = val_dataset, batch_size=32, shuffle = True)\n",
        "test_dataloader = DataLoader(dataset = test_dataset, batch_size=32)\n",
        "\n",
        "num_epochs = 30\n",
        "\n",
        "kernel = 5\n",
        "padding = 2\n",
        "strides = 1\n",
        "pooling_kernel_size = 2\n",
        "\n",
        "activation_function = torch.nn.Hardswish()\n",
        "\n",
        "model = cnn(num_classes, kernel, padding, strides, pooling=True, pooling_kernel_size=pooling_kernel_size, batch_norm=True, activation_function=activation_function).to(device)\n",
        "\n",
        "optimizer = torch.optim.SGD(model.parameters(), lr=learning_rate)\n",
        "\n",
        "model = training(num_epochs, optimizer, train_dataloader, criterion, model, device, val_dataloader, best_name='best_cnn_model', early_stopping=7)\n",
        "\n",
        "model = cnn(num_classes, kernel, padding, strides, pooling=True, pooling_kernel_size=pooling_kernel_size, batch_norm=True, activation_function=activation_function)\n",
        "model.load_state_dict(torch.load('best_cnn_model'))\n",
        "model = model.to(device)\n",
        "\n",
        "_, _, _, _, _, _ = evaluation(test_dataloader, criterion, model, device, print_output = True)"
      ]
    },
    {
      "cell_type": "markdown",
      "metadata": {
        "id": "ltO54xtiEnlb"
      },
      "source": [
        "So our best model after all performance improvements scores 76.2% (F1-Score) on the testing dataset."
      ]
    },
    {
      "cell_type": "code",
      "execution_count": null,
      "metadata": {
        "id": "rmz1scqzJ7D2"
      },
      "outputs": [],
      "source": [
        "def plot(trues, predictions, song_title):\n",
        "  x = range(0, len(predictions))\n",
        "  plt.figure(figsize=(10, 5))\n",
        "  ylabels = ['Blues', 'Classical', 'HipHop', 'Rock']\n",
        "  plt.yticks(range(0, 4), ylabels)\n",
        "  plt.plot(x, predictions, \"mo\", markersize=5)\n",
        "  plt.title(song_title)\n",
        "  plt.show()"
      ]
    },
    {
      "cell_type": "markdown",
      "metadata": {
        "id": "0GmxtjVoZMAz"
      },
      "source": [
        "We will now try to predict the class for each of the 12 songs that were downloaded from YouTube. Note that we classify the input based on the class with the highest number of classifications, regardless of the proportion or percentage (i.e. even if accuraacy is below 50%). This way, we can determine the class by comparing the counts of each class. By identifying the class with the largest count, we assign the input to that particular class. This approach prioritizes the class with the maximum number of instances, irrespective of any specific threshold or percentage requirement."
      ]
    },
    {
      "cell_type": "markdown",
      "metadata": {
        "id": "kk_CqVuPWT4j"
      },
      "source": [
        "We proceed to make predictions for the three Blues songs.\n",
        "\n",
        "The first one (How Blue Can You Get) is correctly recognized as a Blues song with 205/313 seconds predicted correctly. The second most prominent class is HipHop with 55/205 seconds, which is understandable, since as Stephen Thomas Erlewine, an American music critic and senior editor for the online music database AllMusic, has commented, it contains hip-hop beats.\n",
        "\n",
        "The second one is correctly recognized as a Blues song, with 270/325 seconds predicted correctly.\n",
        "\n",
        "The third one is also correctly recognized as a Blues song, with 140/178 seconds predicted correctly."
      ]
    },
    {
      "cell_type": "code",
      "execution_count": null,
      "metadata": {
        "colab": {
          "base_uri": "https://localhost:8080/",
          "height": 1000
        },
        "id": "D6pQdcjiPHad",
        "outputId": "f517e37e-9bd1-4904-c0ed-787a56d8fa4d"
      },
      "outputs": [
        {
          "name": "stdout",
          "output_type": "stream",
          "text": [
            "\n",
            "----Evaluation:----\n",
            "\n",
            "Mean Loss: 0.7764924526214599\n",
            "F1-Score (macro averaged): 0.19787644787644787\n",
            "Accuracy: 0.6549520766773163\n",
            "Confusion Matrix:\n",
            " [[205  12  55  41]\n",
            " [  0   0   0   0]\n",
            " [  0   0   0   0]\n",
            " [  0   0   0   0]]\n"
          ]
        },
        {
          "data": {
            "image/png": "[encoded data removed]",
            "text/plain": [
              "<Figure size 1000x500 with 1 Axes>"
            ]
          },
          "metadata": {},
          "output_type": "display_data"
        },
        {
          "name": "stdout",
          "output_type": "stream",
          "text": [
            "\n",
            "----Evaluation:----\n",
            "\n",
            "Mean Loss: 0.5630819770422849\n",
            "F1-Score (macro averaged): 0.226890756302521\n",
            "Accuracy: 0.8307692307692308\n",
            "Confusion Matrix:\n",
            " [[270   4   6  45]\n",
            " [  0   0   0   0]\n",
            " [  0   0   0   0]\n",
            " [  0   0   0   0]]\n"
          ]
        },
        {
          "data": {
            "image/png": "[encoded data removed]",
            "text/plain": [
              "<Figure size 1000x500 with 1 Axes>"
            ]
          },
          "metadata": {},
          "output_type": "display_data"
        },
        {
          "name": "stdout",
          "output_type": "stream",
          "text": [
            "\n",
            "----Evaluation:----\n",
            "\n",
            "Mean Loss: 0.7607225428024927\n",
            "F1-Score (macro averaged): 0.220125786163522\n",
            "Accuracy: 0.7865168539325843\n",
            "Confusion Matrix:\n",
            " [[140   6  31   1]\n",
            " [  0   0   0   0]\n",
            " [  0   0   0   0]\n",
            " [  0   0   0   0]]\n"
          ]
        },
        {
          "data": {
            "image/png": "[encoded data removed]",
            "text/plain": [
              "<Figure size 1000x500 with 1 Axes>"
            ]
          },
          "metadata": {},
          "output_type": "display_data"
        }
      ],
      "source": [
        "for song_title in blues_urls:\n",
        "    song = np.load(\"blues_\"+song_title+\"_melgrams.npy\")\n",
        "    song_labels = np.full(len(song), 0)\n",
        "    song_dataset = melgramDataset(song, song_labels)\n",
        "    song_dataloader = DataLoader(dataset=song_dataset, batch_size=32, shuffle=False)\n",
        "    trues, predictions, _, _, _, _ = evaluation(song_dataloader, criterion, model, device, print_output=True)\n",
        "    plot(trues, predictions, song_title)"
      ]
    },
    {
      "cell_type": "markdown",
      "metadata": {
        "id": "yDvCselCXcvO"
      },
      "source": [
        "We proceed to make predictions for the three Classical songs.\n",
        "\n",
        "The first one (Nocturne 9 by Chopen) is correctly recognized as a Classical song, with an impressive 269/270 seconds predicted correctly. This can be explained due to the very clear piano sounds contained in this song.\n",
        "\n",
        "The second one is also correctly recognized as a Classical song, with 375/564 seconds predicted correctly.\n",
        "\n",
        "The third one is also correctly recognized as a Classical song, with 241/348 seconds predicted correctly."
      ]
    },
    {
      "cell_type": "code",
      "execution_count": null,
      "metadata": {
        "colab": {
          "base_uri": "https://localhost:8080/",
          "height": 1000
        },
        "id": "mgivcgMOPIvN",
        "outputId": "ae50696c-9fc6-4e7d-8309-4d96eca80d31"
      },
      "outputs": [
        {
          "name": "stdout",
          "output_type": "stream",
          "text": [
            "\n",
            "----Evaluation:----\n",
            "\n",
            "Mean Loss: 0.031166320537320442\n",
            "F1-Score (macro averaged): 0.49907235621521334\n",
            "Accuracy: 0.9962962962962963\n",
            "Confusion Matrix:\n",
            " [[  0   0   0   0]\n",
            " [  1 269   0   0]\n",
            " [  0   0   0   0]\n",
            " [  0   0   0   0]]\n"
          ]
        },
        {
          "data": {
            "image/png": "[encoded data removed]",
            "text/plain": [
              "<Figure size 1000x500 with 1 Axes>"
            ]
          },
          "metadata": {},
          "output_type": "display_data"
        },
        {
          "name": "stdout",
          "output_type": "stream",
          "text": [
            "\n",
            "----Evaluation:----\n",
            "\n",
            "Mean Loss: 1.0419138881067436\n",
            "F1-Score (macro averaged): 0.19968051118210864\n",
            "Accuracy: 0.6648936170212766\n",
            "Confusion Matrix:\n",
            " [[  0   0   0   0]\n",
            " [141 375   8  40]\n",
            " [  0   0   0   0]\n",
            " [  0   0   0   0]]\n"
          ]
        },
        {
          "data": {
            "image/png": "[encoded data removed]",
            "text/plain": [
              "<Figure size 1000x500 with 1 Axes>"
            ]
          },
          "metadata": {},
          "output_type": "display_data"
        },
        {
          "name": "stdout",
          "output_type": "stream",
          "text": [
            "\n",
            "----Evaluation:----\n",
            "\n",
            "Mean Loss: 0.8201043605804443\n",
            "F1-Score (macro averaged): 0.27277872099603845\n",
            "Accuracy: 0.6925287356321839\n",
            "Confusion Matrix:\n",
            " [[  0   0   0   0]\n",
            " [100 241   7   0]\n",
            " [  0   0   0   0]\n",
            " [  0   0   0   0]]\n"
          ]
        },
        {
          "data": {
            "image/png": "[encoded data removed]",
            "text/plain": [
              "<Figure size 1000x500 with 1 Axes>"
            ]
          },
          "metadata": {},
          "output_type": "display_data"
        }
      ],
      "source": [
        "for song_title in classical_urls:\n",
        "    song = np.load(\"classical_\"+song_title+\"_melgrams.npy\")\n",
        "    song_labels = np.full(len(song), 1)\n",
        "    song_dataset = melgramDataset(song, song_labels)\n",
        "    song_dataloader = DataLoader(dataset=song_dataset, batch_size=32, shuffle=False)\n",
        "    trues, predictions, _, _, _, _ = evaluation(song_dataloader, criterion, model, device, print_output=True)\n",
        "    plot(trues, predictions, song_title)"
      ]
    },
    {
      "cell_type": "markdown",
      "metadata": {
        "id": "yBEF3YMqYEtZ"
      },
      "source": [
        "We proceed to make predictions for the three HipHop songs.\n",
        "\n",
        "The first one (Madonna's Hung up) is correctly recognized as a HipHop song with 136/334 seconds being predicted correctly. 104/334 are predicted as Rock, which is also expected, since the song contains Rock characteristics, and even Madonna herself has performed live Rock versions of this song, for example during the 2008 leg of the Sticky & Sweet Tour.\n",
        "\n",
        "The second one (Eminem's Lose Yourself) is also correctly recognized as a HipHop song, with 264/329 seconds predicted correctly. This is very expected, due to the rapping, the rhythmic, the rhyming speech and the rhythmic beatboxing. The beginning of the song is predicted as Classical, which can be attributed to the very clear piano music playing for some seconds without any vocals, before the rapping begins.\n",
        "\n",
        "The third one (Anaconda by Nicki Minaj) is also correctly recognized as a HipHop song, with 208/243 seconds predicted correctly. This is very expected too, due to the rapping, the rhythmic, the rhyming speech and the rhythmic beatboxing."
      ]
    },
    {
      "cell_type": "code",
      "execution_count": null,
      "metadata": {
        "colab": {
          "base_uri": "https://localhost:8080/",
          "height": 1000
        },
        "id": "xHttpYBrPM8c",
        "outputId": "8939fe4f-694c-4fb5-9e5a-408d9c3f41dc"
      },
      "outputs": [
        {
          "name": "stdout",
          "output_type": "stream",
          "text": [
            "\n",
            "----Evaluation:----\n",
            "\n",
            "Mean Loss: 2.388533277945085\n",
            "F1-Score (macro averaged): 0.14468085106382977\n",
            "Accuracy: 0.40718562874251496\n",
            "Confusion Matrix:\n",
            " [[  0   0   0   0]\n",
            " [  0   0   0   0]\n",
            " [ 77  17 136 104]\n",
            " [  0   0   0   0]]\n"
          ]
        },
        {
          "data": {
            "image/png": "[encoded data removed]",
            "text/plain": [
              "<Figure size 1000x500 with 1 Axes>"
            ]
          },
          "metadata": {},
          "output_type": "display_data"
        },
        {
          "name": "stdout",
          "output_type": "stream",
          "text": [
            "\n",
            "----Evaluation:----\n",
            "\n",
            "Mean Loss: 1.8085171160372822\n",
            "F1-Score (macro averaged): 0.22259696458684655\n",
            "Accuracy: 0.8024316109422492\n",
            "Confusion Matrix:\n",
            " [[  0   0   0   0]\n",
            " [  0   0   0   0]\n",
            " [ 24  32 264   9]\n",
            " [  0   0   0   0]]\n"
          ]
        },
        {
          "data": {
            "image/png": "[encoded data removed]",
            "text/plain": [
              "<Figure size 1000x500 with 1 Axes>"
            ]
          },
          "metadata": {},
          "output_type": "display_data"
        },
        {
          "name": "stdout",
          "output_type": "stream",
          "text": [
            "\n",
            "----Evaluation:----\n",
            "\n",
            "Mean Loss: 0.8582166118754281\n",
            "F1-Score (macro averaged): 0.22174840085287845\n",
            "Accuracy: 0.7969348659003831\n",
            "Confusion Matrix:\n",
            " [[  0   0   0   0]\n",
            " [  0   0   0   0]\n",
            " [ 42   5 208   6]\n",
            " [  0   0   0   0]]\n"
          ]
        },
        {
          "data": {
            "image/png": "[encoded data removed]",
            "text/plain": [
              "<Figure size 1000x500 with 1 Axes>"
            ]
          },
          "metadata": {},
          "output_type": "display_data"
        }
      ],
      "source": [
        "for song_title in hiphop_urls:\n",
        "    song = np.load(\"hiphop_\"+song_title+\"_melgrams.npy\")\n",
        "    song_labels = np.full(len(song), 2)\n",
        "    song_dataset = melgramDataset(song, song_labels)\n",
        "    song_dataloader = DataLoader(dataset=song_dataset, batch_size=32, shuffle=False)\n",
        "    trues, predictions, _, _, _, _ = evaluation(song_dataloader, criterion, model, device, print_output=True)\n",
        "    plot(trues, predictions, song_title)"
      ]
    },
    {
      "cell_type": "markdown",
      "metadata": {
        "id": "5Dy395elYs1K"
      },
      "source": [
        "We proceed to make predictions for the three Rock songs.\n",
        "\n",
        "The first one (Every You Every Me by Placebo) is correctly recognized as a Rock song with an impressive 195/216 seconds being predicted correctly. It is one of the most representative Rock songs out there, which might explain this outstanding score.\n",
        "\n",
        "The second one is also correctly recognized as a Rock song, with 184/303 seconds predicted correctly.\n",
        "\n",
        "The third one (Comfortably Numb by Pink Floyd) is also correctly recognized as a Rock song, with 224/414 seconds predicted correctly. However, we notice that 148/414 seconds are predicted as Blues. This song is \"softer\" than usual rock songs, which might explaing why there are so many seconds classified as Blues. We should also keep in mind that Pink Floyd's music was heavily influenced by the blues genre, and even the band is named after two blues artists, Pink Anderson and Floyd Council."
      ]
    },
    {
      "cell_type": "code",
      "execution_count": null,
      "metadata": {
        "colab": {
          "base_uri": "https://localhost:8080/",
          "height": 1000
        },
        "id": "yF7qAl1NPXIZ",
        "outputId": "15675c0d-7196-4350-f8bc-230560dd1c08"
      },
      "outputs": [
        {
          "name": "stdout",
          "output_type": "stream",
          "text": [
            "\n",
            "----Evaluation:----\n",
            "\n",
            "Mean Loss: 0.5340893609183175\n",
            "F1-Score (macro averaged): 0.2372262773722628\n",
            "Accuracy: 0.9027777777777778\n",
            "Confusion Matrix:\n",
            " [[  0   0   0   0]\n",
            " [  0   0   0   0]\n",
            " [  0   0   0   0]\n",
            " [  9  10   2 195]]\n"
          ]
        },
        {
          "data": {
            "image/png": "[encoded data removed]",
            "text/plain": [
              "<Figure size 1000x500 with 1 Axes>"
            ]
          },
          "metadata": {},
          "output_type": "display_data"
        },
        {
          "name": "stdout",
          "output_type": "stream",
          "text": [
            "\n",
            "----Evaluation:----\n",
            "\n",
            "Mean Loss: 1.392069274187088\n",
            "F1-Score (macro averaged): 0.2518822724161533\n",
            "Accuracy: 0.6072607260726073\n",
            "Confusion Matrix:\n",
            " [[  0   0   0   0]\n",
            " [  0   0   0   0]\n",
            " [  0   0   0   0]\n",
            " [ 87  32   0 184]]\n"
          ]
        },
        {
          "data": {
            "image/png": "[encoded data removed]",
            "text/plain": [
              "<Figure size 1000x500 with 1 Axes>"
            ]
          },
          "metadata": {},
          "output_type": "display_data"
        },
        {
          "name": "stdout",
          "output_type": "stream",
          "text": [
            "\n",
            "----Evaluation:----\n",
            "\n",
            "Mean Loss: 0.905530361028818\n",
            "F1-Score (macro averaged): 0.1755485893416928\n",
            "Accuracy: 0.5410628019323671\n",
            "Confusion Matrix:\n",
            " [[  0   0   0   0]\n",
            " [  0   0   0   0]\n",
            " [  0   0   0   0]\n",
            " [148  39   3 224]]\n"
          ]
        },
        {
          "data": {
            "image/png": "[encoded data removed]",
            "text/plain": [
              "<Figure size 1000x500 with 1 Axes>"
            ]
          },
          "metadata": {},
          "output_type": "display_data"
        }
      ],
      "source": [
        "for song_title in rock_urls:\n",
        "    song = np.load(\"rock_\"+song_title+\"_melgrams.npy\")\n",
        "    song_labels = np.full(len(song), 3)\n",
        "    song_dataset = melgramDataset(song, song_labels)\n",
        "    song_dataloader = DataLoader(dataset=song_dataset, batch_size=32, shuffle=False)\n",
        "    trues, predictions, _, _, _, _ = evaluation(song_dataloader, criterion, model, device, print_output=True)\n",
        "    plot(trues, predictions, song_title)"
      ]
    },
    {
      "cell_type": "markdown",
      "metadata": {
        "id": "Hh9mQ6TSa66E"
      },
      "source": [
        "In conclusion, all 12 selected songs were identified correctly by the classifier.\n",
        "\n",
        "The weighted accuracy across all the 3837 seconds of all 12 songs is 70.6%, generally close to the 75% calculated using the testing dataset.\n",
        "\n",
        "However, as mentioned before, accuracy for a specific song does not have to be >= 50% in order to classify the song into a specific class, since we classify the song into the class with the highest number of predicted instances. That's why 12 out of our 12 predictions are correct, even though accruacy remains close to 70%."
      ]
    }
  ],
  "metadata": {
    "accelerator": "GPU",
    "colab": {
      "gpuType": "T4",
      "provenance": []
    },
    "kernelspec": {
      "display_name": "Python 3",
      "name": "python3"
    },
    "language_info": {
      "codemirror_mode": {
        "name": "ipython",
        "version": 3
      },
      "file_extension": ".py",
      "mimetype": "text/x-python",
      "name": "python",
      "nbconvert_exporter": "python",
      "pygments_lexer": "ipython3",
      "version": "3.9.16"
    }
  },
  "nbformat": 4,
  "nbformat_minor": 0
}
